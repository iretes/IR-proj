{
 "cells": [
  {
   "cell_type": "markdown",
   "metadata": {},
   "source": [
    "# Fuzzy Product Quantization Experiments\n",
    "\n",
    "Importing libraries:"
   ]
  },
  {
   "cell_type": "code",
   "execution_count": 1,
   "metadata": {},
   "outputs": [],
   "source": [
    "import time\n",
    "import warnings\n",
    "import numpy as np\n",
    "import pandas as pd\n",
    "import matplotlib\n",
    "import matplotlib.pyplot as plt\n",
    "from search_approaches import PQ, FuzzyPQ, IVF, ExactSearch, FuzzyIVF\n",
    "from utils import *\n",
    "np.warnings = warnings"
   ]
  },
  {
   "cell_type": "markdown",
   "metadata": {},
   "source": [
    "This PQ implementation leverages Fuzzy C-Means to compute the centroids of the subspaces. It encodes the indices of the two centroids with the highest membership values, along with their corresponding membership ratio ($r=\\frac{m_2}{m_1}$, where $m_1$ denotes the highest membership probability and $m_2$ the second highest membership probability). Distances are then calculated in each subspace as a weighted average of the distances between these centroids and the query, using the membership probabilities as weights (recovered from $r$ as follows: $m_1=\\frac{1}{1+r}, m_2=\\frac{r}{1+r}$).\n",
    "\n",
    "We used the Fuzzy CMeans implementation from the [scikit-fda](https://fda.readthedocs.io/en/latest/) library."
   ]
  },
  {
   "cell_type": "code",
   "execution_count": null,
   "metadata": {},
   "outputs": [],
   "source": [
    "help(FuzzyPQ)"
   ]
  },
  {
   "cell_type": "markdown",
   "metadata": {},
   "source": [
    "Defining constants:"
   ]
  },
  {
   "cell_type": "code",
   "execution_count": 3,
   "metadata": {},
   "outputs": [],
   "source": [
    "RANDOM_SEED = 0\n",
    "np.random.seed(RANDOM_SEED)\n",
    "DATASET = \"siftsmall\" # \"glove\"\n",
    "DIR = \"siftsmall\" # \"glove\"\n",
    "SEARCH_TRAIN_SUBSET = False # True if vectors to search in are a subset of the training set\n",
    "tab10 = matplotlib.colormaps[\"tab10\"]"
   ]
  },
  {
   "cell_type": "markdown",
   "metadata": {},
   "source": [
    "Loading the data.\n",
    "\n",
    "NOTE: GloVe embeddings are normalized to have unit norm, ensuring that the squared Euclidean distance is proportional to cosine similarity (commonly used for comparing word embeddings), differing only by a constant factor."
   ]
  },
  {
   "cell_type": "code",
   "execution_count": null,
   "metadata": {},
   "outputs": [],
   "source": [
    "tr_data, search_data, queries, gt = load_data(\n",
    "    dataset_name=DATASET,\n",
    "    dataset_dir=DIR,\n",
    "    search_train_subset=SEARCH_TRAIN_SUBSET,\n",
    "    random_seed=RANDOM_SEED\n",
    ")\n",
    "\n",
    "sample_query = queries[0]\n",
    "sample_query_snorm = np.sum(np.square(sample_query))\n",
    "print(\"Base vectors (to search in) shape: \", search_data.shape)\n",
    "print(f\"Base vectors (to search in) range: [{search_data.min()}, {search_data.max()}]\")\n",
    "print(\"Query vectors shape: \", queries.shape)\n",
    "if DATASET == \"siftsmall\":\n",
    "    print(\"Ground truth shape: \", gt.shape)\n",
    "print(\"Learn vectors shape: \", tr_data.shape)\n",
    "print(\"Query example:\\n\", queries[0])"
   ]
  },
  {
   "cell_type": "markdown",
   "metadata": {},
   "source": [
    "Computing the exact ranking:"
   ]
  },
  {
   "cell_type": "code",
   "execution_count": 5,
   "metadata": {},
   "outputs": [],
   "source": [
    "es = ExactSearch(search_data)\n",
    "exact_ranks = np.empty((queries.shape[0], search_data.shape[0]))\n",
    "\n",
    "for i, query in enumerate(queries):\n",
    "    d, rank = es.search(query)\n",
    "    exact_ranks[i] = rank"
   ]
  },
  {
   "cell_type": "markdown",
   "metadata": {},
   "source": [
    "Defining a function to compute the average recall at various values of R for a set of queries. Both the \"nearest recall at R\" and \"recall at R\" are computed: the former measures the proportion of query vectors for which the nearest neighbor is ranked in the first R positions, while the latter measures the average recall at R. In the original article, only \"nearest recall at R is analyzed, with the authors noting that the conclusions are similar for recall at R."
   ]
  },
  {
   "cell_type": "code",
   "execution_count": 6,
   "metadata": {},
   "outputs": [],
   "source": [
    "def compute_recall(index, R, queries, exact_ranks, w=4):\n",
    "    \"\"\"\n",
    "    Compute average recall at all values in R for the given index and queries.\n",
    "\n",
    "    Parameters\n",
    "    ----------\n",
    "\n",
    "    index : PQ, Fuzzy PQ or IVF\n",
    "        The index to use for the search.\n",
    "    \n",
    "    R : list\n",
    "        The list of values for which to compute the recall at.\n",
    "\n",
    "    queries : np.ndarray\n",
    "        The queries to use for the search.\n",
    "\n",
    "    exact_ranks : np.ndarray\n",
    "        The exact ranking of the search data for each query.\n",
    "\n",
    "    w : int\n",
    "        The number of centroids to visit in the IVF index.\n",
    "\n",
    "    Returns\n",
    "    -------\n",
    "\n",
    "    results : dict\n",
    "        A dictionary containing the mean recall at each value of R and the\n",
    "        inertia of the index.\n",
    "        Recall is computed both as the number of relevant items in the top R,\n",
    "        and as the presence of the nearest item in the top R (nearest recall).\n",
    "\n",
    "    \"\"\"\n",
    "\n",
    "    recall = np.full((len(queries), len(R)), np.nan)\n",
    "    nearest_recall = np.full((len(queries), len(R)), np.nan)\n",
    "\n",
    "    for i, query in enumerate(queries):\n",
    "        if type(index) == PQ:\n",
    "            _, rank = index.search(query, subset=None, asym=True, correct=False)\n",
    "        elif type(index) == FuzzyPQ:\n",
    "            _, rank = index.search(query, subset=None)\n",
    "        elif type(index) == IVF:\n",
    "            _, rank = index.search(query, w=w, asym=True, correct=False)\n",
    "        elif type(index) == FuzzyIVF:\n",
    "            _, rank = index.search(query, w=w)\n",
    "\n",
    "        for j, r in enumerate(R):\n",
    "            if r <= len(rank):\n",
    "                recall[i][j] = recall_at_r(rank, exact_ranks[i], r)\n",
    "                nearest_recall[i][j] = exact_ranks[i][0] in rank[:r]\n",
    "\n",
    "    # Catch the warning risen when the number of retrieved items for all the\n",
    "    # queries is smaller than some value of R\n",
    "    with warnings.catch_warnings(record=True) as w:\n",
    "        recall_mean = np.nanmean(recall, axis=0)\n",
    "        nearest_recall_mean = np.nanmean(nearest_recall, axis=0)\n",
    "        if w:\n",
    "            for warning in w:\n",
    "                if \"Mean of empty slice\" not in str(warning.message):\n",
    "                    warnings.warn(warning.message, warning.category)\n",
    "\n",
    "    results = {\n",
    "        \"recall_mean\": recall_mean,\n",
    "        \"nearest_recall_mean\": nearest_recall_mean,\n",
    "        \"inertia\": index.inertia\n",
    "    }\n",
    "\n",
    "    return results"
   ]
  },
  {
   "cell_type": "markdown",
   "metadata": {},
   "source": [
    "Computing the average recall at various values of R for the set of queries with different values of the parameter `fuzzifier` (which determines the degree of fuzziness in Fuzzy C-Means clustering; it must be $>1$, higher values results in fuzzier clusters):"
   ]
  },
  {
   "cell_type": "code",
   "execution_count": null,
   "metadata": {},
   "outputs": [],
   "source": [
    "R = [1, 2, 5, 10, 25, 50, 100]\n",
    "if DATASET == \"glove\":\n",
    "    M = 10\n",
    "elif DATASET == \"gift\":\n",
    "    M = 30\n",
    "else:\n",
    "    M = 4\n",
    "K = 256\n",
    "\n",
    "results_fpq = {}\n",
    "\n",
    "pq = PQ(M=M, K=K, seed=RANDOM_SEED)\n",
    "print(f\"Training the PQ quantizer with M={M}, K={K}\"\n",
    "    f\" (chunk size = {tr_data.shape[1] // M})...\")\n",
    "pq.train(tr_data, add=False, verbose=True)\n",
    "pq.add(search_data)\n",
    "results_fpq[None] = compute_recall(pq, R, queries, exact_ranks)\n",
    "results_fpq[None][\"search_NMSE\"] = NMSE(search_data, pq.decompress(pq.pqcode))\n",
    "compressed_tr = pq.compress(tr_data)\n",
    "results_fpq[None][\"train_NMSE\"] = NMSE(tr_data, pq.decompress(compressed_tr))\n",
    "results_fpq[None][\"mean_n_iter\"] = np.mean(pq.n_iter)\n",
    "results_fpq[None][\"std_n_iter\"] = np.std(pq.n_iter)\n",
    "results_fpq[None][\"compression_factor\"] = search_data.nbytes / pq.pqcode.nbytes\n",
    "del pq\n",
    "\n",
    "memberships = {}\n",
    "fuzzifiers = [1.1, 1.2, 1.3]\n",
    "for fuzzifier in fuzzifiers:\n",
    "    fpq = FuzzyPQ(M=M, K=K, seed=RANDOM_SEED, fuzzifier=fuzzifier, kmeans_iter=400)\n",
    "    print(f\"Training the FuzzyPQ quantizer with M={M}, K={K}, fuzziness={fuzzifier}\"\n",
    "        f\" (chunk size = {tr_data.shape[1] // M})...\")\n",
    "    fpq.train(tr_data, add=False, verbose=True)\n",
    "    fpq.add(search_data)\n",
    "    memberships[fuzzifier] = fpq.membership_ratio\n",
    "    results_fpq[fuzzifier] = compute_recall(fpq, R, queries, exact_ranks)\n",
    "    results_fpq[fuzzifier][\"search_NMSE\"] = NMSE(search_data, fpq.decompress(fpq.pqcode, fpq.membership_ratio))\n",
    "    compressed_tr, compressed_tr_membership = fpq.compress(tr_data)\n",
    "    results_fpq[fuzzifier][\"train_NMSE\"] = NMSE(tr_data, fpq.decompress(compressed_tr, compressed_tr_membership))\n",
    "    results_fpq[fuzzifier][\"mean_n_iter\"] = np.mean(fpq.n_iter)\n",
    "    results_fpq[fuzzifier][\"std_n_iter\"] = np.std(fpq.n_iter)\n",
    "    results_fpq[fuzzifier][\"compression_factor\"] = search_data.nbytes / (fpq.pqcode.nbytes + fpq.membership_ratio.nbytes)\n",
    "del fpq"
   ]
  },
  {
   "cell_type": "markdown",
   "metadata": {},
   "source": [
    "Displaying the results:"
   ]
  },
  {
   "cell_type": "code",
   "execution_count": null,
   "metadata": {},
   "outputs": [],
   "source": [
    "results_fpq_df = pd.DataFrame(results_fpq).T.rename_axis('fuzzifier').reset_index()\n",
    "results_fpq_df[\"recall@1\"] = results_fpq_df[\"recall_mean\"].apply(lambda x: x[0])\n",
    "cols_to_show = ['fuzzifier', 'search_NMSE', 'train_NMSE', 'mean_n_iter', 'std_n_iter', 'compression_factor', 'recall@1']\n",
    "results_fpq_df[cols_to_show].style.background_gradient(cmap='Blues', subset=cols_to_show)"
   ]
  },
  {
   "cell_type": "markdown",
   "metadata": {},
   "source": [
    "Plotting recall at R:"
   ]
  },
  {
   "cell_type": "code",
   "execution_count": null,
   "metadata": {},
   "outputs": [],
   "source": [
    "fig, axs = plt.subplots(1, 2, figsize=(12, 5))\n",
    "\n",
    "markers = ['-o', '-x', '-v']\n",
    "axs[0].plot(R, results_fpq[None][\"nearest_recall_mean\"], '--s', label=f\"PQ ({np.mean(results_fpq[None]['nearest_recall_mean']):.2f})\", color=\"black\")\n",
    "for i, fuzzifier in enumerate(fuzzifiers):\n",
    "    axs[0].plot(R, results_fpq[fuzzifier][\"nearest_recall_mean\"], markers[i], label=f\"FuzzyPQ, fuzzifier={fuzzifier} ({np.mean(results_fpq[fuzzifier]['nearest_recall_mean']):.2f})\")\n",
    "axs[0].set_xscale('log')\n",
    "axs[0].set_xlabel('R')\n",
    "axs[0].set_ylabel('Nearest recall@R')\n",
    "axs[0].legend(title=\"Method (Mean nearest recall@R)\")\n",
    "axs[0].grid()\n",
    "\n",
    "axs[1].plot(R, results_fpq[None][\"recall_mean\"], '--s', label=f\"PQ ({np.mean(results_fpq[None]['recall_mean']):.2f})\", color=\"black\")\n",
    "for i, fuzzifier in enumerate(fuzzifiers):\n",
    "    axs[1].plot(R, results_fpq[fuzzifier][\"recall_mean\"], markers[i], label=f\"FuzzyPQ, fuzzifier={fuzzifier} ({np.mean(results_fpq[fuzzifier]['recall_mean']):.2f})\")\n",
    "axs[1].set_xscale('log')\n",
    "axs[1].set_xlabel('R')\n",
    "axs[1].set_ylabel('Recall@R')\n",
    "axs[1].legend(title=\"Method (Mean recall@R)\")\n",
    "axs[1].grid()\n",
    "\n",
    "fig.suptitle(f\"ADC, m={M}, k*={K}\\n({tr_data.shape[1] // M} dims per subspace)\");"
   ]
  },
  {
   "cell_type": "markdown",
   "metadata": {},
   "source": [
    "Visualizing membership probabilities for subspace 0:"
   ]
  },
  {
   "cell_type": "code",
   "execution_count": null,
   "metadata": {},
   "outputs": [],
   "source": [
    "fig, axs = plt.subplots(len(memberships), 2, figsize=(9, 3*len(memberships)))\n",
    "\n",
    "for idx, (fuzzifier, membership_ratio) in enumerate(memberships.items()):\n",
    "    membership = np.empty((membership_ratio.shape[0], 2), np.float16)\n",
    "    membership[:, 0] = 1 / (1 + membership_ratio[:, 0])\n",
    "    membership[:, 1] = membership_ratio[:, 0] / (1 + membership_ratio[:, 0])\n",
    "    sorted_membership_0 = np.sort(membership[:, 0])\n",
    "    sorted_membership_1 = np.sort(membership[:, 1])\n",
    "    \n",
    "    axs[idx, 0].plot(range(sorted_membership_0.shape[0]), sorted_membership_0, label=f\"FuzzyPQ, fuzzifier={fuzzifier}\")\n",
    "    axs[idx, 0].set_xlabel('Vectors sorted by highest membership value')\n",
    "    axs[idx, 0].set_ylabel('Membership value')\n",
    "    axs[idx, 0].legend()\n",
    "    \n",
    "    axs[idx, 1].plot(range(sorted_membership_1.shape[0]), sorted_membership_1, label=f\"FuzzyPQ, fuzzifier={fuzzifier}\")\n",
    "    axs[idx, 1].set_xlabel('Vectors sorted by second highest membership value')\n",
    "    axs[idx, 1].set_ylabel('Membership value')\n",
    "    axs[idx, 1].legend()\n",
    "\n",
    "plt.suptitle(\"FuzzyPQ membership values in supspace 0\")\n",
    "plt.tight_layout()\n",
    "plt.show()"
   ]
  },
  {
   "cell_type": "markdown",
   "metadata": {},
   "source": [
    "Computing the average recall at various values of R for the set of queries with different values of K and the previously identified best value of `fuzzifier`:"
   ]
  },
  {
   "cell_type": "code",
   "execution_count": null,
   "metadata": {},
   "outputs": [],
   "source": [
    "KP = 128\n",
    "W = 8\n",
    "\n",
    "ivf = IVF(Kp=KP, M=M, K=K, seed=RANDOM_SEED)\n",
    "ivf.train(tr_data, add=False, verbose=True)\n",
    "ivf.add(search_data)\n",
    "results_ivf = compute_recall(ivf, R, queries, exact_ranks, w=W)\n",
    "\n",
    "fuzzifier = 1.1\n",
    "fivf = FuzzyIVF(Kp=KP, M=M, K=K, fuzzifier=fuzzifier, seed=RANDOM_SEED)\n",
    "fivf.train(tr_data, add=False, verbose=True)\n",
    "fivf.add(search_data)\n",
    "results_fivf = compute_recall(fivf, R, queries, exact_ranks, w=W)"
   ]
  },
  {
   "cell_type": "markdown",
   "metadata": {},
   "source": [
    "Plotting recall at R:"
   ]
  },
  {
   "cell_type": "code",
   "execution_count": null,
   "metadata": {},
   "outputs": [],
   "source": [
    "fig, axs = plt.subplots(1, 2, figsize=(12, 5))\n",
    "\n",
    "axs[0].plot(R, results_ivf[\"nearest_recall_mean\"], '--s', label=f\"IVF PQ, k'={KP}, w={W} ({np.nanmean(results_ivf['nearest_recall_mean']):.2f})\", color=\"black\")\n",
    "axs[0].plot(R, results_fivf[\"nearest_recall_mean\"], '-o', label=f\"IVF Fuzzy PQ, k'={KP}, w={W} ({np.nanmean(results_fivf['nearest_recall_mean']):.2f})\")\n",
    "axs[0].plot(R, results_fpq[None][\"nearest_recall_mean\"], '-.v', label=f\"PQ ({np.nanmean(results_fpq[None]['nearest_recall_mean']):.2f})\", color=\"gray\")\n",
    "axs[0].plot(R, results_fpq[fuzzifier][\"nearest_recall_mean\"], '-D', label=f\"Fuzzy PQ ({np.nanmean(results_fpq[fuzzifier]['nearest_recall_mean']):.2f})\")\n",
    "axs[0].set_xscale('log')\n",
    "axs[0].set_xlabel('R')\n",
    "axs[0].set_ylabel('Nearest recall@R')\n",
    "axs[0].legend(title='Method (Mean nearest recall@R)')\n",
    "axs[0].grid()\n",
    "\n",
    "axs[1].plot(R, results_ivf[\"recall_mean\"], '--s', label=f\"IVF PQ, k'={KP}, w={W} ({np.nanmean(results_ivf['recall_mean']):.2f})\", color=\"black\")\n",
    "axs[1].plot(R, results_fivf[\"recall_mean\"], '-o', label=f\"IVF Fuzzy PQ, k'={KP}, w={W} ({np.nanmean(results_fivf['recall_mean']):.2f})\")\n",
    "axs[1].plot(R, results_fpq[None][\"recall_mean\"], '-.v', label=f\"PQ ({np.nanmean(results_fpq[None]['recall_mean']):.2f})\", color=\"gray\")\n",
    "axs[1].plot(R, results_fpq[fuzzifier][\"recall_mean\"], '-D', label=f\"Fuzzy PQ ({np.nanmean(results_fpq[fuzzifier]['recall_mean']):.2f})\")\n",
    "axs[1].set_xscale('log')\n",
    "axs[1].set_xlabel('R')\n",
    "axs[1].set_ylabel('Recall@R')\n",
    "axs[1].legend(title='Method (Mean recall@R)')\n",
    "axs[1].grid()\n",
    "\n",
    "fig.suptitle(f\"ADC, m={M}, k*={K}\");"
   ]
  }
 ],
 "metadata": {
  "kernelspec": {
   "display_name": "Python 3 (ipykernel)",
   "language": "python",
   "name": "python3"
  },
  "language_info": {
   "codemirror_mode": {
    "name": "ipython",
    "version": 3
   },
   "file_extension": ".py",
   "mimetype": "text/x-python",
   "name": "python",
   "nbconvert_exporter": "python",
   "pygments_lexer": "ipython3",
   "version": "3.11.11"
  }
 },
 "nbformat": 4,
 "nbformat_minor": 4
}
