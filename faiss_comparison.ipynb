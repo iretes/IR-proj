{
  "cells": [
    {
      "cell_type": "markdown",
      "metadata": {
        "id": "WLrcnP8InmjE"
      },
      "source": [
        "# Product Quantization"
      ]
    },
    {
      "cell_type": "code",
      "execution_count": 1,
      "metadata": {
        "colab": {
          "base_uri": "https://localhost:8080/"
        },
        "id": "qXguYS3CnmjF",
        "outputId": "ea19b56c-d50f-4d15-b9eb-226cd3cbf3d7"
      },
      "outputs": [
        {
          "output_type": "stream",
          "name": "stdout",
          "text": [
            "Reading package lists... Done\n",
            "Building dependency tree... Done\n",
            "Reading state information... Done\n",
            "libomp-dev is already the newest version (1:14.0-55~exp2).\n",
            "0 upgraded, 0 newly installed, 0 to remove and 49 not upgraded.\n",
            "Requirement already satisfied: faiss-cpu in /usr/local/lib/python3.10/dist-packages (1.9.0.post1)\n",
            "Requirement already satisfied: numpy<3.0,>=1.25.0 in /usr/local/lib/python3.10/dist-packages (from faiss-cpu) (1.26.4)\n",
            "Requirement already satisfied: packaging in /usr/local/lib/python3.10/dist-packages (from faiss-cpu) (24.2)\n"
          ]
        }
      ],
      "source": [
        "!apt install libomp-dev\n",
        "!pip install faiss-cpu --no-cache"
      ]
    },
    {
      "cell_type": "code",
      "execution_count": 4,
      "metadata": {
        "id": "crl03tpOnmjF"
      },
      "outputs": [],
      "source": [
        "import numpy as np\n",
        "import pandas as pd\n",
        "from scipy.stats import kendalltau, spearmanr\n",
        "import matplotlib\n",
        "import matplotlib.pyplot as plt\n",
        "import faiss\n",
        "from search_approaches import PQ, ExactSearch\n",
        "from utils import *"
      ]
    },
    {
      "cell_type": "code",
      "execution_count": 5,
      "metadata": {
        "id": "-KvUq3OFnmjF"
      },
      "outputs": [],
      "source": [
        "RANDOM_SEED=42\n",
        "np.random.seed(RANDOM_SEED)"
      ]
    },
    {
      "cell_type": "code",
      "execution_count": 6,
      "metadata": {
        "colab": {
          "base_uri": "https://localhost:8080/"
        },
        "id": "oi8Gsf6bnmjG",
        "outputId": "998b1d96-1895-484d-d3d2-80a38a61746b"
      },
      "outputs": [
        {
          "output_type": "stream",
          "name": "stdout",
          "text": [
            "Base vectors shape:  (10000, 128)\n",
            "Base vectors range: [0.0, 180.0]\n",
            "Query vectors shape:  (100, 128)\n",
            "Ground truth shape:  (100, 100)\n",
            "Learn vectors shape:  (25000, 128)\n",
            "Query example:\n",
            " [  1.   3.  11. 110.  62.  22.   4.   0.  43.  21.  22.  18.   6.  28.\n",
            "  64.   9.  11.   1.   0.   0.   1.  40. 101.  21.  20.   2.   4.   2.\n",
            "   2.   9.  18.  35.   1.   1.   7.  25. 108. 116.  63.   2.   0.   0.\n",
            "  11.  74.  40. 101. 116.   3.  33.   1.   1.  11.  14.  18. 116. 116.\n",
            "  68.  12.   5.   4.   2.   2.   9. 102.  17.   3.  10.  18.   8.  15.\n",
            "  67.  63.  15.   0.  14. 116.  80.   0.   2.  22.  96.  37.  28.  88.\n",
            "  43.   1.   4.  18. 116.  51.   5.  11.  32.  14.   8.  23.  44.  17.\n",
            "  12.   9.   0.   0.  19.  37.  85.  18.  16. 104.  22.   6.   2.  26.\n",
            "  12.  58.  67.  82.  25.  12.   2.   2.  25.  18.   8.   2.  19.  42.\n",
            "  48.  11.]\n"
          ]
        }
      ],
      "source": [
        "xb, xq, xt, gt = load_sift(name=\"siftsmall\", dir=\"/content\")\n",
        "print(\"Base vectors shape: \", xb.shape)\n",
        "print(f\"Base vectors range: [{xb.min()}, {xb.max()}]\")\n",
        "print(\"Query vectors shape: \", xq.shape)\n",
        "print(\"Ground truth shape: \", gt.shape)\n",
        "print(\"Learn vectors shape: \", xt.shape)\n",
        "print(\"Query example:\\n\", xq[0])"
      ]
    },
    {
      "cell_type": "code",
      "execution_count": 7,
      "metadata": {
        "id": "D6dzR4cZnmjG"
      },
      "outputs": [],
      "source": [
        "tr_data = xb\n",
        "queries = xq\n",
        "sample_query = xq[0]\n",
        "sample_query_snorm = np.sum(np.square(sample_query))"
      ]
    },
    {
      "cell_type": "code",
      "execution_count": 8,
      "metadata": {
        "colab": {
          "base_uri": "https://localhost:8080/"
        },
        "id": "D7R9d2F-nmjP",
        "outputId": "1b8d212d-9dd8-4a57-d724-bbeea087b2a2"
      },
      "outputs": [
        {
          "output_type": "stream",
          "name": "stdout",
          "text": [
            "Reconstruction error on training data (NMSE): 0.085\n"
          ]
        }
      ],
      "source": [
        "pq = faiss.ProductQuantizer(128, 8, 8)\n",
        "pq.train(tr_data)\n",
        "\n",
        "compressed_tr = pq.compute_codes(tr_data)\n",
        "decompressed_tr = pq.decode(compressed_tr)\n",
        "\n",
        "print(\"Reconstruction error on training data (NMSE): %.3f\" % NMSE(tr_data, decompressed_tr))"
      ]
    },
    {
      "cell_type": "code",
      "execution_count": 9,
      "metadata": {
        "colab": {
          "base_uri": "https://localhost:8080/"
        },
        "id": "DhLkTC8HoW7F",
        "outputId": "a7f920f0-03bb-41b2-f1c2-a1dea67983e9"
      },
      "outputs": [
        {
          "output_type": "execute_result",
          "data": {
            "text/plain": [
              "(10000, 8)"
            ]
          },
          "metadata": {},
          "execution_count": 9
        }
      ],
      "source": [
        "compressed_tr.shape # => M=8"
      ]
    },
    {
      "cell_type": "code",
      "execution_count": 10,
      "metadata": {
        "colab": {
          "base_uri": "https://localhost:8080/"
        },
        "id": "JcxTuxkcohRU",
        "outputId": "e30e13eb-c2f9-46ca-d737-b0498629ad25"
      },
      "outputs": [
        {
          "output_type": "execute_result",
          "data": {
            "text/plain": [
              "255"
            ]
          },
          "metadata": {},
          "execution_count": 10
        }
      ],
      "source": [
        "np.max(np.unique(compressed_tr)) # => K=256"
      ]
    },
    {
      "cell_type": "code",
      "execution_count": 11,
      "metadata": {
        "id": "xyOhyqiBnmjP"
      },
      "outputs": [],
      "source": [
        "pq_faiss = faiss.IndexPQ(128, 8, 8)\n",
        "pq_faiss.train(tr_data)\n",
        "pq_faiss.add(tr_data)\n",
        "\n",
        "pq = PQ(M=8, K=256, seed=RANDOM_SEED)\n",
        "pq.train(tr_data)\n",
        "\n",
        "es = ExactSearch(tr_data)\n",
        "\n",
        "ranks_faiss_pq = np.zeros((queries.shape[0], tr_data.shape[0]), dtype=int)\n",
        "ranks_mine_pq = np.zeros((queries.shape[0], tr_data.shape[0]), dtype=int)\n",
        "ranks_exact = np.zeros((queries.shape[0], tr_data.shape[0]), dtype=int)\n",
        "\n",
        "R = [1, 10, 100, 1000, 10000]\n",
        "faiss_recall = np.zeros((len(queries), len(R)))\n",
        "mine_recall = np.zeros((len(queries), len(R)))\n",
        "\n",
        "for i, query in enumerate(queries):\n",
        "  d_faiss, rank_faiss_pq = pq_faiss.search(query.reshape(1, -1), tr_data.shape[0])\n",
        "  ranks_faiss_pq[i] = rank_faiss_pq[0]\n",
        "\n",
        "  d_mine, rank_mine_pq = pq.search(query, subset=None, asym=True, correct=False)\n",
        "  ranks_mine_pq[i] = rank_mine_pq\n",
        "\n",
        "  d_exact, rank_exact = es.search(query)\n",
        "  ranks_exact[i] = rank_exact\n",
        "\n",
        "  for j, r in enumerate(R):\n",
        "    faiss_recall[i][j] = rank_exact[0] in rank_faiss_pq[0][:r]\n",
        "    mine_recall[i][j] = rank_exact[0] in rank_mine_pq[:r]\n",
        "\n",
        "faiss_recall_mean = np.mean(faiss_recall, axis=0)\n",
        "mine_recall_mean = np.mean(mine_recall, axis=0)"
      ]
    },
    {
      "cell_type": "code",
      "execution_count": 12,
      "metadata": {
        "colab": {
          "base_uri": "https://localhost:8080/",
          "height": 454
        },
        "id": "gIplt6h8MqdS",
        "outputId": "e2570374-0ef7-4c00-c4fd-0c1b27c0dc92"
      },
      "outputs": [
        {
          "output_type": "display_data",
          "data": {
            "text/plain": [
              "<Figure size 640x480 with 1 Axes>"
            ],
            "image/png": "[encoded data removed]"
          },
          "metadata": {}
        }
      ],
      "source": [
        "plt.plot(R, faiss_recall_mean, '-s', label=\"FAISS PQ\", color=matplotlib.colormaps[\"tab20\"](0))\n",
        "plt.plot(R, mine_recall_mean, '-s', label=\"Our PQ\", color=matplotlib.colormaps[\"tab20\"](6))\n",
        "plt.xscale('log')\n",
        "plt.xlabel('R')\n",
        "plt.ylabel('Recall@R')\n",
        "plt.legend()\n",
        "plt.grid()"
      ]
    },
    {
      "cell_type": "code",
      "execution_count": 13,
      "metadata": {
        "id": "GSKmltZtqvrP"
      },
      "outputs": [],
      "source": [
        "def sorted2rank(sorted):\n",
        "  ranking = np.zeros(len(sorted))\n",
        "  for i, el in enumerate(sorted):\n",
        "      ranking[el] = i+1\n",
        "  return ranking"
      ]
    },
    {
      "cell_type": "code",
      "execution_count": 14,
      "metadata": {
        "colab": {
          "base_uri": "https://localhost:8080/",
          "height": 112
        },
        "id": "wsDp2ABJvi0l",
        "outputId": "887d0d60-c95e-4206-bb1b-eba81714cda6"
      },
      "outputs": [
        {
          "output_type": "execute_result",
          "data": {
            "text/plain": [
              "       Average kendall PQ  Average spearman PQ\n",
              "Our              0.845615             0.966192\n",
              "FAISS            0.844752             0.965885"
            ],
            "text/html": [
              "\n",
              "  <div id=\"df-5a850888-d6fd-45fb-9cea-81d5b1759e06\" class=\"colab-df-container\">\n",
              "    <div>\n",
              "<style scoped>\n",
              "    .dataframe tbody tr th:only-of-type {\n",
              "        vertical-align: middle;\n",
              "    }\n",
              "\n",
              "    .dataframe tbody tr th {\n",
              "        vertical-align: top;\n",
              "    }\n",
              "\n",
              "    .dataframe thead th {\n",
              "        text-align: right;\n",
              "    }\n",
              "</style>\n",
              "<table border=\"1\" class=\"dataframe\">\n",
              "  <thead>\n",
              "    <tr style=\"text-align: right;\">\n",
              "      <th></th>\n",
              "      <th>Average kendall PQ</th>\n",
              "      <th>Average spearman PQ</th>\n",
              "    </tr>\n",
              "  </thead>\n",
              "  <tbody>\n",
              "    <tr>\n",
              "      <th>Our</th>\n",
              "      <td>0.845615</td>\n",
              "      <td>0.966192</td>\n",
              "    </tr>\n",
              "    <tr>\n",
              "      <th>FAISS</th>\n",
              "      <td>0.844752</td>\n",
              "      <td>0.965885</td>\n",
              "    </tr>\n",
              "  </tbody>\n",
              "</table>\n",
              "</div>\n",
              "    <div class=\"colab-df-buttons\">\n",
              "\n",
              "  <div class=\"colab-df-container\">\n",
              "    <button class=\"colab-df-convert\" onclick=\"convertToInteractive('df-5a850888-d6fd-45fb-9cea-81d5b1759e06')\"\n",
              "            title=\"Convert this dataframe to an interactive table.\"\n",
              "            style=\"display:none;\">\n",
              "\n",
              "  <svg xmlns=\"http://www.w3.org/2000/svg\" height=\"24px\" viewBox=\"0 -960 960 960\">\n",
              "    <path d=\"M120-120v-720h720v720H120Zm60-500h600v-160H180v160Zm220 220h160v-160H400v160Zm0 220h160v-160H400v160ZM180-400h160v-160H180v160Zm440 0h160v-160H620v160ZM180-180h160v-160H180v160Zm440 0h160v-160H620v160Z\"/>\n",
              "  </svg>\n",
              "    </button>\n",
              "\n",
              "  <style>\n",
              "    .colab-df-container {\n",
              "      display:flex;\n",
              "      gap: 12px;\n",
              "    }\n",
              "\n",
              "    .colab-df-convert {\n",
              "      background-color: #E8F0FE;\n",
              "      border: none;\n",
              "      border-radius: 50%;\n",
              "      cursor: pointer;\n",
              "      display: none;\n",
              "      fill: #1967D2;\n",
              "      height: 32px;\n",
              "      padding: 0 0 0 0;\n",
              "      width: 32px;\n",
              "    }\n",
              "\n",
              "    .colab-df-convert:hover {\n",
              "      background-color: #E2EBFA;\n",
              "      box-shadow: 0px 1px 2px rgba(60, 64, 67, 0.3), 0px 1px 3px 1px rgba(60, 64, 67, 0.15);\n",
              "      fill: #174EA6;\n",
              "    }\n",
              "\n",
              "    .colab-df-buttons div {\n",
              "      margin-bottom: 4px;\n",
              "    }\n",
              "\n",
              "    [theme=dark] .colab-df-convert {\n",
              "      background-color: #3B4455;\n",
              "      fill: #D2E3FC;\n",
              "    }\n",
              "\n",
              "    [theme=dark] .colab-df-convert:hover {\n",
              "      background-color: #434B5C;\n",
              "      box-shadow: 0px 1px 3px 1px rgba(0, 0, 0, 0.15);\n",
              "      filter: drop-shadow(0px 1px 2px rgba(0, 0, 0, 0.3));\n",
              "      fill: #FFFFFF;\n",
              "    }\n",
              "  </style>\n",
              "\n",
              "    <script>\n",
              "      const buttonEl =\n",
              "        document.querySelector('#df-5a850888-d6fd-45fb-9cea-81d5b1759e06 button.colab-df-convert');\n",
              "      buttonEl.style.display =\n",
              "        google.colab.kernel.accessAllowed ? 'block' : 'none';\n",
              "\n",
              "      async function convertToInteractive(key) {\n",
              "        const element = document.querySelector('#df-5a850888-d6fd-45fb-9cea-81d5b1759e06');\n",
              "        const dataTable =\n",
              "          await google.colab.kernel.invokeFunction('convertToInteractive',\n",
              "                                                    [key], {});\n",
              "        if (!dataTable) return;\n",
              "\n",
              "        const docLinkHtml = 'Like what you see? Visit the ' +\n",
              "          '<a target=\"_blank\" href=https://colab.research.google.com/notebooks/data_table.ipynb>data table notebook</a>'\n",
              "          + ' to learn more about interactive tables.';\n",
              "        element.innerHTML = '';\n",
              "        dataTable['output_type'] = 'display_data';\n",
              "        await google.colab.output.renderOutput(dataTable, element);\n",
              "        const docLink = document.createElement('div');\n",
              "        docLink.innerHTML = docLinkHtml;\n",
              "        element.appendChild(docLink);\n",
              "      }\n",
              "    </script>\n",
              "  </div>\n",
              "\n",
              "\n",
              "<div id=\"df-2ac4af1b-dc6b-4288-b9c2-82a67763bf1c\">\n",
              "  <button class=\"colab-df-quickchart\" onclick=\"quickchart('df-2ac4af1b-dc6b-4288-b9c2-82a67763bf1c')\"\n",
              "            title=\"Suggest charts\"\n",
              "            style=\"display:none;\">\n",
              "\n",
              "<svg xmlns=\"http://www.w3.org/2000/svg\" height=\"24px\"viewBox=\"0 0 24 24\"\n",
              "     width=\"24px\">\n",
              "    <g>\n",
              "        <path d=\"M19 3H5c-1.1 0-2 .9-2 2v14c0 1.1.9 2 2 2h14c1.1 0 2-.9 2-2V5c0-1.1-.9-2-2-2zM9 17H7v-7h2v7zm4 0h-2V7h2v10zm4 0h-2v-4h2v4z\"/>\n",
              "    </g>\n",
              "</svg>\n",
              "  </button>\n",
              "\n",
              "<style>\n",
              "  .colab-df-quickchart {\n",
              "      --bg-color: #E8F0FE;\n",
              "      --fill-color: #1967D2;\n",
              "      --hover-bg-color: #E2EBFA;\n",
              "      --hover-fill-color: #174EA6;\n",
              "      --disabled-fill-color: #AAA;\n",
              "      --disabled-bg-color: #DDD;\n",
              "  }\n",
              "\n",
              "  [theme=dark] .colab-df-quickchart {\n",
              "      --bg-color: #3B4455;\n",
              "      --fill-color: #D2E3FC;\n",
              "      --hover-bg-color: #434B5C;\n",
              "      --hover-fill-color: #FFFFFF;\n",
              "      --disabled-bg-color: #3B4455;\n",
              "      --disabled-fill-color: #666;\n",
              "  }\n",
              "\n",
              "  .colab-df-quickchart {\n",
              "    background-color: var(--bg-color);\n",
              "    border: none;\n",
              "    border-radius: 50%;\n",
              "    cursor: pointer;\n",
              "    display: none;\n",
              "    fill: var(--fill-color);\n",
              "    height: 32px;\n",
              "    padding: 0;\n",
              "    width: 32px;\n",
              "  }\n",
              "\n",
              "  .colab-df-quickchart:hover {\n",
              "    background-color: var(--hover-bg-color);\n",
              "    box-shadow: 0 1px 2px rgba(60, 64, 67, 0.3), 0 1px 3px 1px rgba(60, 64, 67, 0.15);\n",
              "    fill: var(--button-hover-fill-color);\n",
              "  }\n",
              "\n",
              "  .colab-df-quickchart-complete:disabled,\n",
              "  .colab-df-quickchart-complete:disabled:hover {\n",
              "    background-color: var(--disabled-bg-color);\n",
              "    fill: var(--disabled-fill-color);\n",
              "    box-shadow: none;\n",
              "  }\n",
              "\n",
              "  .colab-df-spinner {\n",
              "    border: 2px solid var(--fill-color);\n",
              "    border-color: transparent;\n",
              "    border-bottom-color: var(--fill-color);\n",
              "    animation:\n",
              "      spin 1s steps(1) infinite;\n",
              "  }\n",
              "\n",
              "  @keyframes spin {\n",
              "    0% {\n",
              "      border-color: transparent;\n",
              "      border-bottom-color: var(--fill-color);\n",
              "      border-left-color: var(--fill-color);\n",
              "    }\n",
              "    20% {\n",
              "      border-color: transparent;\n",
              "      border-left-color: var(--fill-color);\n",
              "      border-top-color: var(--fill-color);\n",
              "    }\n",
              "    30% {\n",
              "      border-color: transparent;\n",
              "      border-left-color: var(--fill-color);\n",
              "      border-top-color: var(--fill-color);\n",
              "      border-right-color: var(--fill-color);\n",
              "    }\n",
              "    40% {\n",
              "      border-color: transparent;\n",
              "      border-right-color: var(--fill-color);\n",
              "      border-top-color: var(--fill-color);\n",
              "    }\n",
              "    60% {\n",
              "      border-color: transparent;\n",
              "      border-right-color: var(--fill-color);\n",
              "    }\n",
              "    80% {\n",
              "      border-color: transparent;\n",
              "      border-right-color: var(--fill-color);\n",
              "      border-bottom-color: var(--fill-color);\n",
              "    }\n",
              "    90% {\n",
              "      border-color: transparent;\n",
              "      border-bottom-color: var(--fill-color);\n",
              "    }\n",
              "  }\n",
              "</style>\n",
              "\n",
              "  <script>\n",
              "    async function quickchart(key) {\n",
              "      const quickchartButtonEl =\n",
              "        document.querySelector('#' + key + ' button');\n",
              "      quickchartButtonEl.disabled = true;  // To prevent multiple clicks.\n",
              "      quickchartButtonEl.classList.add('colab-df-spinner');\n",
              "      try {\n",
              "        const charts = await google.colab.kernel.invokeFunction(\n",
              "            'suggestCharts', [key], {});\n",
              "      } catch (error) {\n",
              "        console.error('Error during call to suggestCharts:', error);\n",
              "      }\n",
              "      quickchartButtonEl.classList.remove('colab-df-spinner');\n",
              "      quickchartButtonEl.classList.add('colab-df-quickchart-complete');\n",
              "    }\n",
              "    (() => {\n",
              "      let quickchartButtonEl =\n",
              "        document.querySelector('#df-2ac4af1b-dc6b-4288-b9c2-82a67763bf1c button');\n",
              "      quickchartButtonEl.style.display =\n",
              "        google.colab.kernel.accessAllowed ? 'block' : 'none';\n",
              "    })();\n",
              "  </script>\n",
              "</div>\n",
              "\n",
              "    </div>\n",
              "  </div>\n"
            ],
            "application/vnd.google.colaboratory.intrinsic+json": {
              "type": "dataframe",
              "summary": "{\n  \"name\": \"}, index=[\\\"Our\\\", \\\"FAISS\\\"])\",\n  \"rows\": 2,\n  \"fields\": [\n    {\n      \"column\": \"Average kendall PQ\",\n      \"properties\": {\n        \"dtype\": \"number\",\n        \"std\": 0.0006099284293796535,\n        \"min\": 0.8447519455945595,\n        \"max\": 0.8456145146514651,\n        \"num_unique_values\": 2,\n        \"samples\": [\n          0.8447519455945595,\n          0.8456145146514651\n        ],\n        \"semantic_type\": \"\",\n        \"description\": \"\"\n      }\n    },\n    {\n      \"column\": \"Average spearman PQ\",\n      \"properties\": {\n        \"dtype\": \"number\",\n        \"std\": 0.0002166366567929453,\n        \"min\": 0.9658852407672524,\n        \"max\": 0.9661916112653961,\n        \"num_unique_values\": 2,\n        \"samples\": [\n          0.9658852407672524,\n          0.9661916112653961\n        ],\n        \"semantic_type\": \"\",\n        \"description\": \"\"\n      }\n    }\n  ]\n}"
            }
          },
          "metadata": {},
          "execution_count": 14
        }
      ],
      "source": [
        "kendalls_mine_pq = np.zeros(queries.shape[0])\n",
        "spearmans_mine_pq = np.zeros(queries.shape[0])\n",
        "\n",
        "kendalls_faiss_pq = np.zeros(queries.shape[0])\n",
        "spearmans_faiss_pq = np.zeros(queries.shape[0])\n",
        "\n",
        "for i in range(queries.shape[0]):\n",
        "  sorted_exact = sorted2rank(ranks_exact[i])\n",
        "  sorted_mine_pq = sorted2rank(ranks_mine_pq[i])\n",
        "  sorted_faiss_pq = sorted2rank(ranks_faiss_pq[i])\n",
        "\n",
        "  kendalls_mine_pq[i], _ = kendalltau(sorted_mine_pq, sorted_exact)\n",
        "  spearmans_mine_pq[i], _ = spearmanr(sorted_mine_pq, sorted_exact)\n",
        "\n",
        "  kendalls_faiss_pq[i], _ = kendalltau(sorted_faiss_pq, sorted_exact)\n",
        "  spearmans_faiss_pq[i], _ = spearmanr(sorted_faiss_pq, sorted_exact)\n",
        "\n",
        "\n",
        "pd.DataFrame({\n",
        "    \"Average kendall PQ\": [np.mean(kendalls_mine_pq), np.mean(kendalls_faiss_pq)],\n",
        "    \"Average spearman PQ\": [np.mean(spearmans_mine_pq), np.mean(spearmans_faiss_pq)],\n",
        "}, index=[\"Our\", \"FAISS\"])"
      ]
    },
    {
      "cell_type": "code",
      "execution_count": 15,
      "metadata": {
        "colab": {
          "base_uri": "https://localhost:8080/",
          "height": 449
        },
        "id": "_bcMHnVCBvP7",
        "outputId": "bac0ec48-066f-45ca-b23e-bdc1d569450f"
      },
      "outputs": [
        {
          "output_type": "display_data",
          "data": {
            "text/plain": [
              "<Figure size 640x480 with 1 Axes>"
            ],
            "image/png": "[encoded data removed]"
          },
          "metadata": {}
        }
      ],
      "source": [
        "plt.plot(kendalls_faiss_pq-kendalls_mine_pq, 'o', color='blue')\n",
        "plt.xlabel(\"Query index\")\n",
        "plt.ylabel(\"PQ Kendall tau difference\\n(Faiss - Our)\");"
      ]
    }
  ],
  "metadata": {
    "colab": {
      "provenance": []
    },
    "kernelspec": {
      "display_name": "Python 3 (ipykernel)",
      "language": "python",
      "name": "python3"
    },
    "language_info": {
      "codemirror_mode": {
        "name": "ipython",
        "version": 3
      },
      "file_extension": ".py",
      "mimetype": "text/x-python",
      "name": "python",
      "nbconvert_exporter": "python",
      "pygments_lexer": "ipython3",
      "version": "3.11.4"
    }
  },
  "nbformat": 4,
  "nbformat_minor": 0
}