{
  "cells": [
    {
      "cell_type": "markdown",
      "metadata": {
        "id": "WLrcnP8InmjE"
      },
      "source": [
        "# Comparison with FAISS implementation\n",
        "\n",
        "Installing the required libraries:"
      ]
    },
    {
      "cell_type": "code",
      "execution_count": 1,
      "metadata": {
        "colab": {
          "base_uri": "https://localhost:8080/"
        },
        "id": "qXguYS3CnmjF",
        "outputId": "29c77ac2-31a4-4520-9b2a-3661b40908eb"
      },
      "outputs": [
        {
          "output_type": "stream",
          "name": "stdout",
          "text": [
            "Reading package lists... Done\n",
            "Building dependency tree... Done\n",
            "Reading state information... Done\n",
            "The following additional packages will be installed:\n",
            "  libomp-14-dev libomp5-14\n",
            "Suggested packages:\n",
            "  libomp-14-doc\n",
            "The following NEW packages will be installed:\n",
            "  libomp-14-dev libomp-dev libomp5-14\n",
            "0 upgraded, 3 newly installed, 0 to remove and 49 not upgraded.\n",
            "Need to get 738 kB of archives.\n",
            "After this operation, 8,991 kB of additional disk space will be used.\n",
            "Get:1 http://archive.ubuntu.com/ubuntu jammy-updates/universe amd64 libomp5-14 amd64 1:14.0.0-1ubuntu1.1 [389 kB]\n",
            "Get:2 http://archive.ubuntu.com/ubuntu jammy-updates/universe amd64 libomp-14-dev amd64 1:14.0.0-1ubuntu1.1 [347 kB]\n",
            "Get:3 http://archive.ubuntu.com/ubuntu jammy/universe amd64 libomp-dev amd64 1:14.0-55~exp2 [3,074 B]\n",
            "Fetched 738 kB in 0s (3,288 kB/s)\n",
            "Selecting previously unselected package libomp5-14:amd64.\n",
            "(Reading database ... 124561 files and directories currently installed.)\n",
            "Preparing to unpack .../libomp5-14_1%3a14.0.0-1ubuntu1.1_amd64.deb ...\n",
            "Unpacking libomp5-14:amd64 (1:14.0.0-1ubuntu1.1) ...\n",
            "Selecting previously unselected package libomp-14-dev.\n",
            "Preparing to unpack .../libomp-14-dev_1%3a14.0.0-1ubuntu1.1_amd64.deb ...\n",
            "Unpacking libomp-14-dev (1:14.0.0-1ubuntu1.1) ...\n",
            "Selecting previously unselected package libomp-dev:amd64.\n",
            "Preparing to unpack .../libomp-dev_1%3a14.0-55~exp2_amd64.deb ...\n",
            "Unpacking libomp-dev:amd64 (1:14.0-55~exp2) ...\n",
            "Setting up libomp5-14:amd64 (1:14.0.0-1ubuntu1.1) ...\n",
            "Setting up libomp-14-dev (1:14.0.0-1ubuntu1.1) ...\n",
            "Setting up libomp-dev:amd64 (1:14.0-55~exp2) ...\n",
            "Processing triggers for libc-bin (2.35-0ubuntu3.4) ...\n",
            "/sbin/ldconfig.real: /usr/local/lib/libumf.so.0 is not a symbolic link\n",
            "\n",
            "/sbin/ldconfig.real: /usr/local/lib/libhwloc.so.15 is not a symbolic link\n",
            "\n",
            "/sbin/ldconfig.real: /usr/local/lib/libur_adapter_opencl.so.0 is not a symbolic link\n",
            "\n",
            "/sbin/ldconfig.real: /usr/local/lib/libur_adapter_level_zero.so.0 is not a symbolic link\n",
            "\n",
            "/sbin/ldconfig.real: /usr/local/lib/libtcm.so.1 is not a symbolic link\n",
            "\n",
            "/sbin/ldconfig.real: /usr/local/lib/libtbb.so.12 is not a symbolic link\n",
            "\n",
            "/sbin/ldconfig.real: /usr/local/lib/libtbbbind_2_5.so.3 is not a symbolic link\n",
            "\n",
            "/sbin/ldconfig.real: /usr/local/lib/libur_loader.so.0 is not a symbolic link\n",
            "\n",
            "/sbin/ldconfig.real: /usr/local/lib/libtcm_debug.so.1 is not a symbolic link\n",
            "\n",
            "/sbin/ldconfig.real: /usr/local/lib/libtbbbind_2_0.so.3 is not a symbolic link\n",
            "\n",
            "/sbin/ldconfig.real: /usr/local/lib/libtbbmalloc_proxy.so.2 is not a symbolic link\n",
            "\n",
            "/sbin/ldconfig.real: /usr/local/lib/libtbbbind.so.3 is not a symbolic link\n",
            "\n",
            "/sbin/ldconfig.real: /usr/local/lib/libtbbmalloc.so.2 is not a symbolic link\n",
            "\n",
            "Collecting faiss-cpu\n",
            "  Downloading faiss_cpu-1.9.0.post1-cp311-cp311-manylinux_2_17_x86_64.manylinux2014_x86_64.whl.metadata (4.4 kB)\n",
            "Requirement already satisfied: numpy<3.0,>=1.25.0 in /usr/local/lib/python3.11/dist-packages (from faiss-cpu) (1.26.4)\n",
            "Requirement already satisfied: packaging in /usr/local/lib/python3.11/dist-packages (from faiss-cpu) (24.2)\n",
            "Downloading faiss_cpu-1.9.0.post1-cp311-cp311-manylinux_2_17_x86_64.manylinux2014_x86_64.whl (27.5 MB)\n",
            "\u001b[2K   \u001b[90m━━━━━━━━━━━━━━━━━━━━━━━━━━━━━━━━━━━━━━━━\u001b[0m \u001b[32m27.5/27.5 MB\u001b[0m \u001b[31m157.2 MB/s\u001b[0m eta \u001b[36m0:00:00\u001b[0m\n",
            "\u001b[?25hInstalling collected packages: faiss-cpu\n",
            "Successfully installed faiss-cpu-1.9.0.post1\n",
            "Collecting scikit-fda\n",
            "  Downloading scikit_fda-0.9.1-py3-none-any.whl.metadata (9.8 kB)\n",
            "Collecting dcor (from scikit-fda)\n",
            "  Downloading dcor-0.6-py3-none-any.whl.metadata (6.2 kB)\n",
            "Collecting fdasrsf!=2.5.7,>=2.2.0 (from scikit-fda)\n",
            "  Downloading fdasrsf-2.6.1-cp311-cp311-manylinux_2_17_x86_64.manylinux2014_x86_64.whl.metadata (7.9 kB)\n",
            "Collecting findiff (from scikit-fda)\n",
            "  Downloading findiff-0.12.1-py3-none-any.whl.metadata (12 kB)\n",
            "Requirement already satisfied: lazy-loader in /usr/local/lib/python3.11/dist-packages (from scikit-fda) (0.4)\n",
            "Requirement already satisfied: matplotlib in /usr/local/lib/python3.11/dist-packages (from scikit-fda) (3.10.0)\n",
            "Collecting multimethod!=1.11,!=1.11.1,>=1.5 (from scikit-fda)\n",
            "  Downloading multimethod-2.0-py3-none-any.whl.metadata (9.2 kB)\n",
            "Requirement already satisfied: numpy>=1.16 in /usr/local/lib/python3.11/dist-packages (from scikit-fda) (1.26.4)\n",
            "Requirement already satisfied: pandas>=1.0 in /usr/local/lib/python3.11/dist-packages (from scikit-fda) (2.2.2)\n",
            "Collecting rdata (from scikit-fda)\n",
            "  Downloading rdata-0.11.2-py3-none-any.whl.metadata (11 kB)\n",
            "Collecting scikit-datasets>=0.1.24 (from scikit-datasets[cran]>=0.1.24->scikit-fda)\n",
            "  Downloading scikit_datasets-0.2.4-py3-none-any.whl.metadata (5.0 kB)\n",
            "Requirement already satisfied: scikit-learn>=0.20 in /usr/local/lib/python3.11/dist-packages (from scikit-fda) (1.6.0)\n",
            "Requirement already satisfied: scipy>=1.3.0 in /usr/local/lib/python3.11/dist-packages (from scikit-fda) (1.13.1)\n",
            "Requirement already satisfied: typing-extensions in /usr/local/lib/python3.11/dist-packages (from scikit-fda) (4.12.2)\n",
            "Requirement already satisfied: Cython in /usr/local/lib/python3.11/dist-packages (from fdasrsf!=2.5.7,>=2.2.0->scikit-fda) (3.0.11)\n",
            "Requirement already satisfied: joblib in /usr/local/lib/python3.11/dist-packages (from fdasrsf!=2.5.7,>=2.2.0->scikit-fda) (1.4.2)\n",
            "Requirement already satisfied: patsy in /usr/local/lib/python3.11/dist-packages (from fdasrsf!=2.5.7,>=2.2.0->scikit-fda) (1.0.1)\n",
            "Requirement already satisfied: tqdm in /usr/local/lib/python3.11/dist-packages (from fdasrsf!=2.5.7,>=2.2.0->scikit-fda) (4.67.1)\n",
            "Requirement already satisfied: six in /usr/local/lib/python3.11/dist-packages (from fdasrsf!=2.5.7,>=2.2.0->scikit-fda) (1.17.0)\n",
            "Requirement already satisfied: numba in /usr/local/lib/python3.11/dist-packages (from fdasrsf!=2.5.7,>=2.2.0->scikit-fda) (0.60.0)\n",
            "Requirement already satisfied: cffi>=1.0.0 in /usr/local/lib/python3.11/dist-packages (from fdasrsf!=2.5.7,>=2.2.0->scikit-fda) (1.17.1)\n",
            "Requirement already satisfied: pyparsing in /usr/local/lib/python3.11/dist-packages (from fdasrsf!=2.5.7,>=2.2.0->scikit-fda) (3.2.1)\n",
            "Requirement already satisfied: python-dateutil>=2.8.2 in /usr/local/lib/python3.11/dist-packages (from pandas>=1.0->scikit-fda) (2.8.2)\n",
            "Requirement already satisfied: pytz>=2020.1 in /usr/local/lib/python3.11/dist-packages (from pandas>=1.0->scikit-fda) (2024.2)\n",
            "Requirement already satisfied: tzdata>=2022.7 in /usr/local/lib/python3.11/dist-packages (from pandas>=1.0->scikit-fda) (2024.2)\n",
            "Requirement already satisfied: threadpoolctl>=3.1.0 in /usr/local/lib/python3.11/dist-packages (from scikit-learn>=0.20->scikit-fda) (3.5.0)\n",
            "Requirement already satisfied: sympy in /usr/local/lib/python3.11/dist-packages (from findiff->scikit-fda) (1.13.1)\n",
            "Requirement already satisfied: packaging in /usr/local/lib/python3.11/dist-packages (from lazy-loader->scikit-fda) (24.2)\n",
            "Requirement already satisfied: contourpy>=1.0.1 in /usr/local/lib/python3.11/dist-packages (from matplotlib->scikit-fda) (1.3.1)\n",
            "Requirement already satisfied: cycler>=0.10 in /usr/local/lib/python3.11/dist-packages (from matplotlib->scikit-fda) (0.12.1)\n",
            "Requirement already satisfied: fonttools>=4.22.0 in /usr/local/lib/python3.11/dist-packages (from matplotlib->scikit-fda) (4.55.3)\n",
            "Requirement already satisfied: kiwisolver>=1.3.1 in /usr/local/lib/python3.11/dist-packages (from matplotlib->scikit-fda) (1.4.8)\n",
            "Requirement already satisfied: pillow>=8 in /usr/local/lib/python3.11/dist-packages (from matplotlib->scikit-fda) (11.1.0)\n",
            "Requirement already satisfied: xarray in /usr/local/lib/python3.11/dist-packages (from rdata->scikit-fda) (2025.1.1)\n",
            "Requirement already satisfied: pycparser in /usr/local/lib/python3.11/dist-packages (from cffi>=1.0.0->fdasrsf!=2.5.7,>=2.2.0->scikit-fda) (2.22)\n",
            "Requirement already satisfied: llvmlite<0.44,>=0.43.0dev0 in /usr/local/lib/python3.11/dist-packages (from numba->fdasrsf!=2.5.7,>=2.2.0->scikit-fda) (0.43.0)\n",
            "Requirement already satisfied: mpmath<1.4,>=1.1.0 in /usr/local/lib/python3.11/dist-packages (from sympy->findiff->scikit-fda) (1.3.0)\n",
            "Downloading scikit_fda-0.9.1-py3-none-any.whl (434 kB)\n",
            "\u001b[2K   \u001b[90m━━━━━━━━━━━━━━━━━━━━━━━━━━━━━━━━━━━━━━━━\u001b[0m \u001b[32m434.7/434.7 kB\u001b[0m \u001b[31m8.5 MB/s\u001b[0m eta \u001b[36m0:00:00\u001b[0m\n",
            "\u001b[?25hDownloading fdasrsf-2.6.1-cp311-cp311-manylinux_2_17_x86_64.manylinux2014_x86_64.whl (14.8 MB)\n",
            "\u001b[2K   \u001b[90m━━━━━━━━━━━━━━━━━━━━━━━━━━━━━━━━━━━━━━━━\u001b[0m \u001b[32m14.8/14.8 MB\u001b[0m \u001b[31m86.3 MB/s\u001b[0m eta \u001b[36m0:00:00\u001b[0m\n",
            "\u001b[?25hDownloading multimethod-2.0-py3-none-any.whl (9.8 kB)\n",
            "Downloading scikit_datasets-0.2.4-py3-none-any.whl (50 kB)\n",
            "\u001b[2K   \u001b[90m━━━━━━━━━━━━━━━━━━━━━━━━━━━━━━━━━━━━━━━━\u001b[0m \u001b[32m50.4/50.4 kB\u001b[0m \u001b[31m4.1 MB/s\u001b[0m eta \u001b[36m0:00:00\u001b[0m\n",
            "\u001b[?25hDownloading dcor-0.6-py3-none-any.whl (55 kB)\n",
            "\u001b[2K   \u001b[90m━━━━━━━━━━━━━━━━━━━━━━━━━━━━━━━━━━━━━━━━\u001b[0m \u001b[32m55.5/55.5 kB\u001b[0m \u001b[31m5.3 MB/s\u001b[0m eta \u001b[36m0:00:00\u001b[0m\n",
            "\u001b[?25hDownloading findiff-0.12.1-py3-none-any.whl (26 kB)\n",
            "Downloading rdata-0.11.2-py3-none-any.whl (46 kB)\n",
            "\u001b[2K   \u001b[90m━━━━━━━━━━━━━━━━━━━━━━━━━━━━━━━━━━━━━━━━\u001b[0m \u001b[32m46.5/46.5 kB\u001b[0m \u001b[31m3.6 MB/s\u001b[0m eta \u001b[36m0:00:00\u001b[0m\n",
            "\u001b[?25hInstalling collected packages: multimethod, findiff, dcor, scikit-datasets, fdasrsf, rdata, scikit-fda\n",
            "Successfully installed dcor-0.6 fdasrsf-2.6.1 findiff-0.12.1 multimethod-2.0 rdata-0.11.2 scikit-datasets-0.2.4 scikit-fda-0.9.1\n",
            "Collecting pyclustering\n",
            "  Downloading pyclustering-0.10.1.2.tar.gz (2.6 MB)\n",
            "\u001b[2K     \u001b[90m━━━━━━━━━━━━━━━━━━━━━━━━━━━━━━━━━━━━━━━━\u001b[0m \u001b[32m2.6/2.6 MB\u001b[0m \u001b[31m25.6 MB/s\u001b[0m eta \u001b[36m0:00:00\u001b[0m\n",
            "\u001b[?25h  Preparing metadata (setup.py) ... \u001b[?25l\u001b[?25hdone\n",
            "Requirement already satisfied: scipy>=1.1.0 in /usr/local/lib/python3.11/dist-packages (from pyclustering) (1.13.1)\n",
            "Requirement already satisfied: matplotlib>=3.0.0 in /usr/local/lib/python3.11/dist-packages (from pyclustering) (3.10.0)\n",
            "Requirement already satisfied: numpy>=1.15.2 in /usr/local/lib/python3.11/dist-packages (from pyclustering) (1.26.4)\n",
            "Requirement already satisfied: Pillow>=5.2.0 in /usr/local/lib/python3.11/dist-packages (from pyclustering) (11.1.0)\n",
            "Requirement already satisfied: contourpy>=1.0.1 in /usr/local/lib/python3.11/dist-packages (from matplotlib>=3.0.0->pyclustering) (1.3.1)\n",
            "Requirement already satisfied: cycler>=0.10 in /usr/local/lib/python3.11/dist-packages (from matplotlib>=3.0.0->pyclustering) (0.12.1)\n",
            "Requirement already satisfied: fonttools>=4.22.0 in /usr/local/lib/python3.11/dist-packages (from matplotlib>=3.0.0->pyclustering) (4.55.3)\n",
            "Requirement already satisfied: kiwisolver>=1.3.1 in /usr/local/lib/python3.11/dist-packages (from matplotlib>=3.0.0->pyclustering) (1.4.8)\n",
            "Requirement already satisfied: packaging>=20.0 in /usr/local/lib/python3.11/dist-packages (from matplotlib>=3.0.0->pyclustering) (24.2)\n",
            "Requirement already satisfied: pyparsing>=2.3.1 in /usr/local/lib/python3.11/dist-packages (from matplotlib>=3.0.0->pyclustering) (3.2.1)\n",
            "Requirement already satisfied: python-dateutil>=2.7 in /usr/local/lib/python3.11/dist-packages (from matplotlib>=3.0.0->pyclustering) (2.8.2)\n",
            "Requirement already satisfied: six>=1.5 in /usr/local/lib/python3.11/dist-packages (from python-dateutil>=2.7->matplotlib>=3.0.0->pyclustering) (1.17.0)\n",
            "Building wheels for collected packages: pyclustering\n",
            "  Building wheel for pyclustering (setup.py) ... \u001b[?25l\u001b[?25hdone\n",
            "  Created wheel for pyclustering: filename=pyclustering-0.10.1.2-py3-none-any.whl size=2395099 sha256=07a66158eecf864b8a0c3e211f8aaab473915056188d5632a5715a1cbecda4a6\n",
            "  Stored in directory: /root/.cache/pip/wheels/9f/99/15/e881f46a92690ae77c2e3b255b89ea45d3a867b1b6c2ab3ba9\n",
            "Successfully built pyclustering\n",
            "Installing collected packages: pyclustering\n",
            "Successfully installed pyclustering-0.10.1.2\n"
          ]
        }
      ],
      "source": [
        "!apt install libomp-dev\n",
        "!pip install faiss-cpu --no-cache\n",
        "!pip install scikit-fda\n",
        "!pip install pyclustering"
      ]
    },
    {
      "cell_type": "markdown",
      "metadata": {
        "id": "NoE5F0z4VzIV"
      },
      "source": [
        "Importing the required libraries:"
      ]
    },
    {
      "cell_type": "code",
      "execution_count": 2,
      "metadata": {
        "id": "crl03tpOnmjF"
      },
      "outputs": [],
      "source": [
        "import faiss\n",
        "import numpy as np\n",
        "import pandas as pd\n",
        "import matplotlib\n",
        "import matplotlib.pyplot as plt\n",
        "from scipy.stats import kendalltau, spearmanr\n",
        "from search_approaches import PQ, ExactSearch\n",
        "from utils import *"
      ]
    },
    {
      "cell_type": "markdown",
      "metadata": {
        "id": "Lfoyj24FVzIV"
      },
      "source": [
        "Defining constants:"
      ]
    },
    {
      "cell_type": "code",
      "execution_count": 3,
      "metadata": {
        "id": "-KvUq3OFnmjF"
      },
      "outputs": [],
      "source": [
        "RANDOM_SEED = 42\n",
        "np.random.seed(RANDOM_SEED)\n",
        "DATASET = \"siftsmall\" # \"siftsmall\", \"sift\", \"glove\"\n",
        "SEARCH_TRAIN_SUBSET = False # True if vectors to search in are a subset of the training set\n",
        "M = 20 if DATASET == \"glove\" else 8\n",
        "K = 256"
      ]
    },
    {
      "cell_type": "markdown",
      "metadata": {
        "id": "zUTJwMhuVzIW"
      },
      "source": [
        "Loading the data.\n",
        "\n",
        "NOTE: GloVe embeddings are normalized to have unit norm, ensuring that the squared Euclidean distance is proportional to cosine similarity (commonly used for comparing word embeddings), differing only by a constant factor."
      ]
    },
    {
      "cell_type": "code",
      "execution_count": 4,
      "metadata": {
        "colab": {
          "base_uri": "https://localhost:8080/"
        },
        "id": "oi8Gsf6bnmjG",
        "outputId": "9818ffb2-01ee-4823-913f-ed630b70f97f"
      },
      "outputs": [
        {
          "output_type": "stream",
          "name": "stdout",
          "text": [
            "Base vectors (to search in) shape:  (10000, 128)\n",
            "Query vectors shape:  (100, 128)\n",
            "Learn vectors shape:  (25000, 128)\n"
          ]
        }
      ],
      "source": [
        "tr_data, search_data, queries, gt = load_data(\n",
        "    dataset_name=DATASET,\n",
        "    dataset_dir=\"/content\",\n",
        "    search_train_subset=SEARCH_TRAIN_SUBSET,\n",
        "    random_seed=RANDOM_SEED\n",
        ")\n",
        "\n",
        "print(\"Base vectors (to search in) shape: \", search_data.shape)\n",
        "print(\"Query vectors shape: \", queries.shape)\n",
        "print(\"Learn vectors shape: \", tr_data.shape)\n",
        "\n",
        "sample_query = queries[0]\n",
        "sample_query_snorm = np.sum(np.square(sample_query))"
      ]
    },
    {
      "cell_type": "markdown",
      "metadata": {
        "id": "8P7HH5cCTKik"
      },
      "source": [
        "Training the quantizers:"
      ]
    },
    {
      "cell_type": "code",
      "execution_count": 5,
      "metadata": {
        "id": "D7R9d2F-nmjP"
      },
      "outputs": [],
      "source": [
        "pq_faiss = faiss.ProductQuantizer(tr_data.shape[1], M, int(np.log2(K)))\n",
        "pq_faiss.train(tr_data)\n",
        "faiss_compressed_tr = pq_faiss.compute_codes(tr_data)\n",
        "faiss_decompressed_tr = pq_faiss.decode(faiss_compressed_tr)\n",
        "faiss_rec_error = NMSE(tr_data, faiss_decompressed_tr)\n",
        "\n",
        "pq_mine = PQ(M=M, K=K, seed=RANDOM_SEED)\n",
        "pq_mine.train(tr_data, add=False)\n",
        "mine_compressed_tr = pq_mine.compress(tr_data)\n",
        "mine_decompressed_tr = pq_mine.decompress(mine_compressed_tr)\n",
        "mine_rec_error = NMSE(tr_data, mine_decompressed_tr)"
      ]
    },
    {
      "cell_type": "markdown",
      "metadata": {
        "id": "0Pu02FHXTKil"
      },
      "source": [
        "Computing recall@R for various values of R on the set of queries:"
      ]
    },
    {
      "cell_type": "code",
      "execution_count": 6,
      "metadata": {
        "id": "xyOhyqiBnmjP"
      },
      "outputs": [],
      "source": [
        "pq_faiss = faiss.IndexPQ(tr_data.shape[1], M, int(np.log2(K)))\n",
        "pq_faiss.train(tr_data)\n",
        "pq_faiss.add(search_data)\n",
        "\n",
        "pq_mine.add(search_data)\n",
        "\n",
        "es = ExactSearch(search_data)\n",
        "\n",
        "ranks_faiss_pq = np.zeros((queries.shape[0], search_data.shape[0]), dtype=int)\n",
        "ranks_mine_pq = np.zeros((queries.shape[0], search_data.shape[0]), dtype=int)\n",
        "ranks_exact = np.zeros((queries.shape[0], search_data.shape[0]), dtype=int)\n",
        "\n",
        "R = [1, 2, 5, 10, 25, 50, 100]\n",
        "faiss_recall = np.zeros((len(queries), len(R)))\n",
        "mine_recall = np.zeros((len(queries), len(R)))\n",
        "\n",
        "for i, query in enumerate(queries):\n",
        "  d_faiss, rank_faiss_pq = pq_faiss.search(query.reshape(1, -1), search_data.shape[0])\n",
        "  ranks_faiss_pq[i] = rank_faiss_pq[0]\n",
        "\n",
        "  d_mine, rank_mine_pq = pq_mine.search(query, subset=None, asym=True, correct=False)\n",
        "  ranks_mine_pq[i] = rank_mine_pq\n",
        "\n",
        "  d_exact, rank_exact = es.search(query)\n",
        "  ranks_exact[i] = rank_exact\n",
        "\n",
        "  for j, r in enumerate(R):\n",
        "    faiss_recall[i][j] = rank_exact[0] in rank_faiss_pq[0][:r]\n",
        "    mine_recall[i][j] = rank_exact[0] in rank_mine_pq[:r]\n",
        "\n",
        "faiss_recall_mean = np.mean(faiss_recall, axis=0)\n",
        "mine_recall_mean = np.mean(mine_recall, axis=0)"
      ]
    },
    {
      "cell_type": "markdown",
      "metadata": {
        "id": "F_JxA1qNTKil"
      },
      "source": [
        "Plotting the result:"
      ]
    },
    {
      "cell_type": "code",
      "execution_count": 7,
      "metadata": {
        "colab": {
          "base_uri": "https://localhost:8080/",
          "height": 454
        },
        "id": "gIplt6h8MqdS",
        "outputId": "59270b31-8935-429d-c100-5848cdd6842a"
      },
      "outputs": [
        {
          "output_type": "display_data",
          "data": {
            "text/plain": [
              "<Figure size 640x480 with 1 Axes>"
            ],
            "image/png": "[encoded data removed]"
          },
          "metadata": {}
        }
      ],
      "source": [
        "plt.plot(R, faiss_recall_mean, '-s', label=\"FAISS PQ\", color=matplotlib.colormaps[\"tab20\"](0))\n",
        "plt.plot(R, mine_recall_mean, '-s', label=\"Mine PQ\", color=matplotlib.colormaps[\"tab20\"](6))\n",
        "plt.xscale('log')\n",
        "plt.xlabel('R')\n",
        "plt.ylabel('Nearest recall@R')\n",
        "plt.legend()\n",
        "plt.grid()"
      ]
    },
    {
      "cell_type": "markdown",
      "metadata": {
        "id": "_LwKVHOyyE6z"
      },
      "source": [
        "Displaying the reconstruction error and the recall@10 for the two implementations:"
      ]
    },
    {
      "cell_type": "code",
      "execution_count": 11,
      "metadata": {
        "colab": {
          "base_uri": "https://localhost:8080/",
          "height": 112
        },
        "id": "y70lQatsyE6z",
        "outputId": "b7dbfc10-edc0-4653-bf6b-f8e214b7c01b"
      },
      "outputs": [
        {
          "output_type": "execute_result",
          "data": {
            "text/plain": [
              "<pandas.io.formats.style.Styler at 0x7f38d9746e90>"
            ],
            "text/html": [
              "<style type=\"text/css\">\n",
              "#T_49770_row0_col0, #T_49770_row0_col2, #T_49770_row1_col1, #T_49770_row1_col2 {\n",
              "  background-color: #f7fbff;\n",
              "  color: #000000;\n",
              "}\n",
              "#T_49770_row0_col1, #T_49770_row1_col0 {\n",
              "  background-color: #08306b;\n",
              "  color: #f1f1f1;\n",
              "}\n",
              "</style>\n",
              "<table id=\"T_49770\" class=\"dataframe\">\n",
              "  <thead>\n",
              "    <tr>\n",
              "      <th class=\"blank level0\" >&nbsp;</th>\n",
              "      <th id=\"T_49770_level0_col0\" class=\"col_heading level0 col0\" >Reconstruction error on training data (NMSE)</th>\n",
              "      <th id=\"T_49770_level0_col1\" class=\"col_heading level0 col1\" >Recall@5</th>\n",
              "      <th id=\"T_49770_level0_col2\" class=\"col_heading level0 col2\" >Recall@10</th>\n",
              "    </tr>\n",
              "  </thead>\n",
              "  <tbody>\n",
              "    <tr>\n",
              "      <th id=\"T_49770_level0_row0\" class=\"row_heading level0 row0\" >Mine</th>\n",
              "      <td id=\"T_49770_row0_col0\" class=\"data row0 col0\" >0.089334</td>\n",
              "      <td id=\"T_49770_row0_col1\" class=\"data row0 col1\" >0.790000</td>\n",
              "      <td id=\"T_49770_row0_col2\" class=\"data row0 col2\" >0.870000</td>\n",
              "    </tr>\n",
              "    <tr>\n",
              "      <th id=\"T_49770_level0_row1\" class=\"row_heading level0 row1\" >FAISS</th>\n",
              "      <td id=\"T_49770_row1_col0\" class=\"data row1 col0\" >0.089910</td>\n",
              "      <td id=\"T_49770_row1_col1\" class=\"data row1 col1\" >0.780000</td>\n",
              "      <td id=\"T_49770_row1_col2\" class=\"data row1 col2\" >0.870000</td>\n",
              "    </tr>\n",
              "  </tbody>\n",
              "</table>\n"
            ]
          },
          "metadata": {},
          "execution_count": 11
        }
      ],
      "source": [
        "pd.DataFrame({\n",
        "    \"Reconstruction error on training data (NMSE)\": [mine_rec_error, faiss_rec_error],\n",
        "    \"Recall@5\": [mine_recall_mean[2], faiss_recall_mean[2]],\n",
        "    \"Recall@10\": [mine_recall_mean[3], faiss_recall_mean[3]]\n",
        "}, index=[\"Mine\", \"FAISS\"]).style.background_gradient(cmap='Blues')"
      ]
    },
    {
      "cell_type": "markdown",
      "metadata": {
        "id": "ei3LCkbxTKil"
      },
      "source": [
        "Defining a function to convert the array of document ids sorted by distance to a ranking:"
      ]
    },
    {
      "cell_type": "code",
      "execution_count": 9,
      "metadata": {
        "id": "GSKmltZtqvrP"
      },
      "outputs": [],
      "source": [
        "def sorted2rank(sorted):\n",
        "  ranking = np.zeros(len(sorted))\n",
        "  for i, el in enumerate(sorted):\n",
        "      ranking[el] = i+1\n",
        "  return ranking"
      ]
    },
    {
      "cell_type": "markdown",
      "metadata": {
        "id": "HshRXx7tTKil"
      },
      "source": [
        "Computing the average kendall tau and spearman correlation between the rankings:"
      ]
    },
    {
      "cell_type": "code",
      "execution_count": 10,
      "metadata": {
        "colab": {
          "base_uri": "https://localhost:8080/",
          "height": 80
        },
        "id": "wsDp2ABJvi0l",
        "outputId": "f5493661-9007-42d2-c30e-c9b8b0c17ce9"
      },
      "outputs": [
        {
          "output_type": "execute_result",
          "data": {
            "text/plain": [
              "   Average kendall  Average spearman\n",
              "0         0.873399          0.977495"
            ],
            "text/html": [
              "\n",
              "  <div id=\"df-57df8fe9-306c-42e3-9859-13fef8a4715a\" class=\"colab-df-container\">\n",
              "    <div>\n",
              "<style scoped>\n",
              "    .dataframe tbody tr th:only-of-type {\n",
              "        vertical-align: middle;\n",
              "    }\n",
              "\n",
              "    .dataframe tbody tr th {\n",
              "        vertical-align: top;\n",
              "    }\n",
              "\n",
              "    .dataframe thead th {\n",
              "        text-align: right;\n",
              "    }\n",
              "</style>\n",
              "<table border=\"1\" class=\"dataframe\">\n",
              "  <thead>\n",
              "    <tr style=\"text-align: right;\">\n",
              "      <th></th>\n",
              "      <th>Average kendall</th>\n",
              "      <th>Average spearman</th>\n",
              "    </tr>\n",
              "  </thead>\n",
              "  <tbody>\n",
              "    <tr>\n",
              "      <th>0</th>\n",
              "      <td>0.873399</td>\n",
              "      <td>0.977495</td>\n",
              "    </tr>\n",
              "  </tbody>\n",
              "</table>\n",
              "</div>\n",
              "    <div class=\"colab-df-buttons\">\n",
              "\n",
              "  <div class=\"colab-df-container\">\n",
              "    <button class=\"colab-df-convert\" onclick=\"convertToInteractive('df-57df8fe9-306c-42e3-9859-13fef8a4715a')\"\n",
              "            title=\"Convert this dataframe to an interactive table.\"\n",
              "            style=\"display:none;\">\n",
              "\n",
              "  <svg xmlns=\"http://www.w3.org/2000/svg\" height=\"24px\" viewBox=\"0 -960 960 960\">\n",
              "    <path d=\"M120-120v-720h720v720H120Zm60-500h600v-160H180v160Zm220 220h160v-160H400v160Zm0 220h160v-160H400v160ZM180-400h160v-160H180v160Zm440 0h160v-160H620v160ZM180-180h160v-160H180v160Zm440 0h160v-160H620v160Z\"/>\n",
              "  </svg>\n",
              "    </button>\n",
              "\n",
              "  <style>\n",
              "    .colab-df-container {\n",
              "      display:flex;\n",
              "      gap: 12px;\n",
              "    }\n",
              "\n",
              "    .colab-df-convert {\n",
              "      background-color: #E8F0FE;\n",
              "      border: none;\n",
              "      border-radius: 50%;\n",
              "      cursor: pointer;\n",
              "      display: none;\n",
              "      fill: #1967D2;\n",
              "      height: 32px;\n",
              "      padding: 0 0 0 0;\n",
              "      width: 32px;\n",
              "    }\n",
              "\n",
              "    .colab-df-convert:hover {\n",
              "      background-color: #E2EBFA;\n",
              "      box-shadow: 0px 1px 2px rgba(60, 64, 67, 0.3), 0px 1px 3px 1px rgba(60, 64, 67, 0.15);\n",
              "      fill: #174EA6;\n",
              "    }\n",
              "\n",
              "    .colab-df-buttons div {\n",
              "      margin-bottom: 4px;\n",
              "    }\n",
              "\n",
              "    [theme=dark] .colab-df-convert {\n",
              "      background-color: #3B4455;\n",
              "      fill: #D2E3FC;\n",
              "    }\n",
              "\n",
              "    [theme=dark] .colab-df-convert:hover {\n",
              "      background-color: #434B5C;\n",
              "      box-shadow: 0px 1px 3px 1px rgba(0, 0, 0, 0.15);\n",
              "      filter: drop-shadow(0px 1px 2px rgba(0, 0, 0, 0.3));\n",
              "      fill: #FFFFFF;\n",
              "    }\n",
              "  </style>\n",
              "\n",
              "    <script>\n",
              "      const buttonEl =\n",
              "        document.querySelector('#df-57df8fe9-306c-42e3-9859-13fef8a4715a button.colab-df-convert');\n",
              "      buttonEl.style.display =\n",
              "        google.colab.kernel.accessAllowed ? 'block' : 'none';\n",
              "\n",
              "      async function convertToInteractive(key) {\n",
              "        const element = document.querySelector('#df-57df8fe9-306c-42e3-9859-13fef8a4715a');\n",
              "        const dataTable =\n",
              "          await google.colab.kernel.invokeFunction('convertToInteractive',\n",
              "                                                    [key], {});\n",
              "        if (!dataTable) return;\n",
              "\n",
              "        const docLinkHtml = 'Like what you see? Visit the ' +\n",
              "          '<a target=\"_blank\" href=https://colab.research.google.com/notebooks/data_table.ipynb>data table notebook</a>'\n",
              "          + ' to learn more about interactive tables.';\n",
              "        element.innerHTML = '';\n",
              "        dataTable['output_type'] = 'display_data';\n",
              "        await google.colab.output.renderOutput(dataTable, element);\n",
              "        const docLink = document.createElement('div');\n",
              "        docLink.innerHTML = docLinkHtml;\n",
              "        element.appendChild(docLink);\n",
              "      }\n",
              "    </script>\n",
              "  </div>\n",
              "\n",
              "\n",
              "    </div>\n",
              "  </div>\n"
            ],
            "application/vnd.google.colaboratory.intrinsic+json": {
              "type": "dataframe",
              "summary": "{\n  \"name\": \"}, index=[0])\",\n  \"rows\": 1,\n  \"fields\": [\n    {\n      \"column\": \"Average kendall\",\n      \"properties\": {\n        \"dtype\": \"number\",\n        \"std\": null,\n        \"min\": 0.8733994683468347,\n        \"max\": 0.8733994683468347,\n        \"num_unique_values\": 1,\n        \"samples\": [\n          0.8733994683468347\n        ],\n        \"semantic_type\": \"\",\n        \"description\": \"\"\n      }\n    },\n    {\n      \"column\": \"Average spearman\",\n      \"properties\": {\n        \"dtype\": \"number\",\n        \"std\": null,\n        \"min\": 0.9774954830452749,\n        \"max\": 0.9774954830452749,\n        \"num_unique_values\": 1,\n        \"samples\": [\n          0.9774954830452749\n        ],\n        \"semantic_type\": \"\",\n        \"description\": \"\"\n      }\n    }\n  ]\n}"
            }
          },
          "metadata": {},
          "execution_count": 10
        }
      ],
      "source": [
        "kendalls_pq = np.zeros(queries.shape[0])\n",
        "spearmans_pq = np.zeros(queries.shape[0])\n",
        "\n",
        "for i in range(queries.shape[0]):\n",
        "  sorted_mine_pq = sorted2rank(ranks_mine_pq[i])\n",
        "  sorted_faiss_pq = sorted2rank(ranks_faiss_pq[i])\n",
        "\n",
        "  kendalls_pq[i], _ = kendalltau(sorted_mine_pq, sorted_faiss_pq)\n",
        "  spearmans_pq[i], _ = spearmanr(sorted_mine_pq, sorted_faiss_pq)\n",
        "\n",
        "pd.DataFrame({\n",
        "    \"Average kendall\": np.mean(kendalls_pq),\n",
        "    \"Average spearman\": np.mean(spearmans_pq),\n",
        "}, index=[0])"
      ]
    }
  ],
  "metadata": {
    "colab": {
      "provenance": []
    },
    "kernelspec": {
      "display_name": "Python 3 (ipykernel)",
      "language": "python",
      "name": "python3"
    },
    "language_info": {
      "codemirror_mode": {
        "name": "ipython",
        "version": 3
      },
      "file_extension": ".py",
      "mimetype": "text/x-python",
      "name": "python",
      "nbconvert_exporter": "python",
      "pygments_lexer": "ipython3",
      "version": "3.11.4"
    }
  },
  "nbformat": 4,
  "nbformat_minor": 0
}