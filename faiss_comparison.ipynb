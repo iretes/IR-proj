{
  "cells": [
    {
      "cell_type": "markdown",
      "metadata": {
        "id": "WLrcnP8InmjE"
      },
      "source": [
        "# Product Quantization"
      ]
    },
    {
      "cell_type": "code",
      "execution_count": 1,
      "metadata": {
        "colab": {
          "base_uri": "https://localhost:8080/"
        },
        "id": "qXguYS3CnmjF",
        "outputId": "4943ec88-48b2-42b0-f022-97f03da85c09"
      },
      "outputs": [
        {
          "output_type": "stream",
          "name": "stdout",
          "text": [
            "\n",
            "Building dependency tree... Done\n",
            "Reading state information... Done\n",
            "The following additional packages will be installed:\n",
            "  libomp-14-dev libomp5-14\n",
            "Suggested packages:\n",
            "  libomp-14-doc\n",
            "The following NEW packages will be installed:\n",
            "  libomp-14-dev libomp-dev libomp5-14\n",
            "0 upgraded, 3 newly installed, 0 to remove and 49 not upgraded.\n",
            "Need to get 738 kB of archives.\n",
            "After this operation, 8,991 kB of additional disk space will be used.\n",
            "Get:1 http://archive.ubuntu.com/ubuntu jammy-updates/universe amd64 libomp5-14 amd64 1:14.0.0-1ubuntu1.1 [389 kB]\n",
            "Get:2 http://archive.ubuntu.com/ubuntu jammy-updates/universe amd64 libomp-14-dev amd64 1:14.0.0-1ubuntu1.1 [347 kB]\n",
            "Get:3 http://archive.ubuntu.com/ubuntu jammy/universe amd64 libomp-dev amd64 1:14.0-55~exp2 [3,074 B]\n",
            "Fetched 738 kB in 0s (1,768 kB/s)\n",
            "Selecting previously unselected package libomp5-14:amd64.\n",
            "(Reading database ... 123634 files and directories currently installed.)\n",
            "Preparing to unpack .../libomp5-14_1%3a14.0.0-1ubuntu1.1_amd64.deb ...\n",
            "Unpacking libomp5-14:amd64 (1:14.0.0-1ubuntu1.1) ...\n",
            "Selecting previously unselected package libomp-14-dev.\n",
            "Preparing to unpack .../libomp-14-dev_1%3a14.0.0-1ubuntu1.1_amd64.deb ...\n",
            "Unpacking libomp-14-dev (1:14.0.0-1ubuntu1.1) ...\n",
            "Selecting previously unselected package libomp-dev:amd64.\n",
            "Preparing to unpack .../libomp-dev_1%3a14.0-55~exp2_amd64.deb ...\n",
            "Unpacking libomp-dev:amd64 (1:14.0-55~exp2) ...\n",
            "Setting up libomp5-14:amd64 (1:14.0.0-1ubuntu1.1) ...\n",
            "Setting up libomp-14-dev (1:14.0.0-1ubuntu1.1) ...\n",
            "Setting up libomp-dev:amd64 (1:14.0-55~exp2) ...\n",
            "Processing triggers for libc-bin (2.35-0ubuntu3.4) ...\n",
            "/sbin/ldconfig.real: /usr/local/lib/libtcm_debug.so.1 is not a symbolic link\n",
            "\n",
            "/sbin/ldconfig.real: /usr/local/lib/libur_loader.so.0 is not a symbolic link\n",
            "\n",
            "/sbin/ldconfig.real: /usr/local/lib/libhwloc.so.15 is not a symbolic link\n",
            "\n",
            "/sbin/ldconfig.real: /usr/local/lib/libumf.so.0 is not a symbolic link\n",
            "\n",
            "/sbin/ldconfig.real: /usr/local/lib/libtbbmalloc_proxy.so.2 is not a symbolic link\n",
            "\n",
            "/sbin/ldconfig.real: /usr/local/lib/libtbbbind_2_0.so.3 is not a symbolic link\n",
            "\n",
            "/sbin/ldconfig.real: /usr/local/lib/libtbbbind.so.3 is not a symbolic link\n",
            "\n",
            "/sbin/ldconfig.real: /usr/local/lib/libtbbmalloc.so.2 is not a symbolic link\n",
            "\n",
            "/sbin/ldconfig.real: /usr/local/lib/libtbb.so.12 is not a symbolic link\n",
            "\n",
            "/sbin/ldconfig.real: /usr/local/lib/libtbbbind_2_5.so.3 is not a symbolic link\n",
            "\n",
            "/sbin/ldconfig.real: /usr/local/lib/libtcm.so.1 is not a symbolic link\n",
            "\n",
            "/sbin/ldconfig.real: /usr/local/lib/libur_adapter_level_zero.so.0 is not a symbolic link\n",
            "\n",
            "/sbin/ldconfig.real: /usr/local/lib/libur_adapter_opencl.so.0 is not a symbolic link\n",
            "\n",
            "Collecting faiss-cpu\n",
            "  Downloading faiss_cpu-1.9.0.post1-cp310-cp310-manylinux_2_17_x86_64.manylinux2014_x86_64.whl.metadata (4.4 kB)\n",
            "Requirement already satisfied: numpy<3.0,>=1.25.0 in /usr/local/lib/python3.10/dist-packages (from faiss-cpu) (1.26.4)\n",
            "Requirement already satisfied: packaging in /usr/local/lib/python3.10/dist-packages (from faiss-cpu) (24.2)\n",
            "Downloading faiss_cpu-1.9.0.post1-cp310-cp310-manylinux_2_17_x86_64.manylinux2014_x86_64.whl (27.5 MB)\n",
            "\u001b[2K   \u001b[90m━━━━━━━━━━━━━━━━━━━━━━━━━━━━━━━━━━━━━━━━\u001b[0m \u001b[32m27.5/27.5 MB\u001b[0m \u001b[31m160.6 MB/s\u001b[0m eta \u001b[36m0:00:00\u001b[0m\n",
            "\u001b[?25hInstalling collected packages: faiss-cpu\n",
            "Successfully installed faiss-cpu-1.9.0.post1\n"
          ]
        }
      ],
      "source": [
        "!apt install libomp-dev\n",
        "!pip install faiss-cpu --no-cache"
      ]
    },
    {
      "cell_type": "code",
      "execution_count": 4,
      "metadata": {
        "id": "crl03tpOnmjF"
      },
      "outputs": [],
      "source": [
        "import numpy as np\n",
        "import pandas as pd\n",
        "import pickle\n",
        "from scipy.stats import kendalltau, spearmanr\n",
        "import matplotlib\n",
        "import matplotlib.pyplot as plt\n",
        "import faiss\n",
        "from search_approaches import PQ, ExactSearch\n",
        "from utils import *"
      ]
    },
    {
      "cell_type": "code",
      "execution_count": 18,
      "metadata": {
        "id": "-KvUq3OFnmjF"
      },
      "outputs": [],
      "source": [
        "RANDOM_SEED=42\n",
        "np.random.seed(RANDOM_SEED)\n",
        "DATASET = \"glove\""
      ]
    },
    {
      "cell_type": "code",
      "execution_count": 20,
      "metadata": {
        "colab": {
          "base_uri": "https://localhost:8080/"
        },
        "id": "oi8Gsf6bnmjG",
        "outputId": "bad56dab-fa7d-4db9-d84d-a074693d5268"
      },
      "outputs": [
        {
          "output_type": "stream",
          "name": "stdout",
          "text": [
            "Search vectors shape:  (10000, 300)\n",
            "Query vectors shape:  (1000, 300)\n",
            "Learn vectors shape:  (25000, 300)\n"
          ]
        }
      ],
      "source": [
        "if DATASET == \"sift\":\n",
        "    search_data, queries, tr_data, gt = load_sift(name=\"siftsmall\", dir=\"/content\")\n",
        "\n",
        "    print(\"Search vectors shape: \", search_data.shape)\n",
        "    print(\"Query vectors shape: \", queries.shape)\n",
        "    print(\"Learn vectors shape: \", tr_data.shape)\n",
        "else:\n",
        "    with open('/content/glove_data.pkl', 'rb') as f:\n",
        "        tr_data, search_data, queries = pickle.load(f)\n",
        "\n",
        "    print(\"Search vectors shape: \", search_data.shape)\n",
        "    print(\"Query vectors shape: \", queries.shape)\n",
        "    print(\"Learn vectors shape: \", tr_data.shape)\n",
        "\n",
        "sample_query = queries[0]\n",
        "sample_query_snorm = np.sum(np.square(sample_query))"
      ]
    },
    {
      "cell_type": "code",
      "execution_count": 28,
      "metadata": {
        "colab": {
          "base_uri": "https://localhost:8080/"
        },
        "id": "D7R9d2F-nmjP",
        "outputId": "7526146b-8d74-4962-ae7c-9bcfb1229e8e"
      },
      "outputs": [
        {
          "output_type": "stream",
          "name": "stdout",
          "text": [
            "Reconstruction error on training data (NMSE): 0.468\n"
          ]
        }
      ],
      "source": [
        "M = 8 if DATASET == \"sift\" else 20\n",
        "pq = faiss.ProductQuantizer(tr_data.shape[1], M, 8)\n",
        "pq.train(tr_data)\n",
        "\n",
        "compressed_tr = pq.compute_codes(tr_data)\n",
        "decompressed_tr = pq.decode(compressed_tr)\n",
        "\n",
        "print(\"Reconstruction error on training data (NMSE): %.3f\" % NMSE(tr_data, decompressed_tr))"
      ]
    },
    {
      "cell_type": "code",
      "execution_count": 29,
      "metadata": {
        "colab": {
          "base_uri": "https://localhost:8080/"
        },
        "id": "DhLkTC8HoW7F",
        "outputId": "52c7eeff-4a55-41c5-91ba-8c796cce65ba"
      },
      "outputs": [
        {
          "output_type": "execute_result",
          "data": {
            "text/plain": [
              "(25000, 20)"
            ]
          },
          "metadata": {},
          "execution_count": 29
        }
      ],
      "source": [
        "compressed_tr.shape # => M=8, 20"
      ]
    },
    {
      "cell_type": "code",
      "execution_count": 30,
      "metadata": {
        "colab": {
          "base_uri": "https://localhost:8080/"
        },
        "id": "JcxTuxkcohRU",
        "outputId": "b93a057b-47a5-4852-f801-69f5d3477545"
      },
      "outputs": [
        {
          "output_type": "execute_result",
          "data": {
            "text/plain": [
              "255"
            ]
          },
          "metadata": {},
          "execution_count": 30
        }
      ],
      "source": [
        "np.max(np.unique(compressed_tr)) # => K=256"
      ]
    },
    {
      "cell_type": "code",
      "execution_count": 31,
      "metadata": {
        "id": "xyOhyqiBnmjP"
      },
      "outputs": [],
      "source": [
        "pq_faiss = faiss.IndexPQ(tr_data.shape[1], M, 8)\n",
        "pq_faiss.train(tr_data)\n",
        "pq_faiss.add(search_data)\n",
        "\n",
        "pq = PQ(M=M, K=256, seed=RANDOM_SEED)\n",
        "pq.train(tr_data, add=False)\n",
        "pq.add(search_data)\n",
        "\n",
        "es = ExactSearch(search_data)\n",
        "\n",
        "ranks_faiss_pq = np.zeros((queries.shape[0], search_data.shape[0]), dtype=int)\n",
        "ranks_mine_pq = np.zeros((queries.shape[0], search_data.shape[0]), dtype=int)\n",
        "ranks_exact = np.zeros((queries.shape[0], search_data.shape[0]), dtype=int)\n",
        "\n",
        "R = [1, 10, 100, 1000, 10000]\n",
        "faiss_recall = np.zeros((len(queries), len(R)))\n",
        "mine_recall = np.zeros((len(queries), len(R)))\n",
        "\n",
        "for i, query in enumerate(queries):\n",
        "  d_faiss, rank_faiss_pq = pq_faiss.search(query.reshape(1, -1), search_data.shape[0])\n",
        "  ranks_faiss_pq[i] = rank_faiss_pq[0]\n",
        "\n",
        "  d_mine, rank_mine_pq = pq.search(query, subset=None, asym=True, correct=False)\n",
        "  ranks_mine_pq[i] = rank_mine_pq\n",
        "\n",
        "  d_exact, rank_exact = es.search(query)\n",
        "  ranks_exact[i] = rank_exact\n",
        "\n",
        "  for j, r in enumerate(R):\n",
        "    faiss_recall[i][j] = rank_exact[0] in rank_faiss_pq[0][:r]\n",
        "    mine_recall[i][j] = rank_exact[0] in rank_mine_pq[:r]\n",
        "\n",
        "faiss_recall_mean = np.mean(faiss_recall, axis=0)\n",
        "mine_recall_mean = np.mean(mine_recall, axis=0)"
      ]
    },
    {
      "cell_type": "code",
      "execution_count": 32,
      "metadata": {
        "colab": {
          "base_uri": "https://localhost:8080/",
          "height": 454
        },
        "id": "gIplt6h8MqdS",
        "outputId": "598b61f2-310f-4110-d49f-29afcd7c68d2"
      },
      "outputs": [
        {
          "output_type": "display_data",
          "data": {
            "text/plain": [
              "<Figure size 640x480 with 1 Axes>"
            ],
            "image/png": "[encoded data removed]"
          },
          "metadata": {}
        }
      ],
      "source": [
        "plt.plot(R, faiss_recall_mean, '-s', label=\"FAISS PQ\", color=matplotlib.colormaps[\"tab20\"](0))\n",
        "plt.plot(R, mine_recall_mean, '-s', label=\"Our PQ\", color=matplotlib.colormaps[\"tab20\"](6))\n",
        "plt.xscale('log')\n",
        "plt.xlabel('R')\n",
        "plt.ylabel('Recall@R')\n",
        "plt.legend()\n",
        "plt.grid()"
      ]
    },
    {
      "cell_type": "code",
      "execution_count": 33,
      "metadata": {
        "id": "GSKmltZtqvrP"
      },
      "outputs": [],
      "source": [
        "def sorted2rank(sorted):\n",
        "  ranking = np.zeros(len(sorted))\n",
        "  for i, el in enumerate(sorted):\n",
        "      ranking[el] = i+1\n",
        "  return ranking"
      ]
    },
    {
      "cell_type": "code",
      "execution_count": 34,
      "metadata": {
        "colab": {
          "base_uri": "https://localhost:8080/",
          "height": 112
        },
        "id": "wsDp2ABJvi0l",
        "outputId": "7964a969-5390-4cd2-8c4b-86edd21f9470"
      },
      "outputs": [
        {
          "output_type": "execute_result",
          "data": {
            "text/plain": [
              "       Average kendall PQ  Average spearman PQ\n",
              "Our              0.388462             0.551508\n",
              "FAISS            0.392899             0.557155"
            ],
            "text/html": [
              "\n",
              "  <div id=\"df-8a9b46d6-7e90-44c8-937c-c40355409ec2\" class=\"colab-df-container\">\n",
              "    <div>\n",
              "<style scoped>\n",
              "    .dataframe tbody tr th:only-of-type {\n",
              "        vertical-align: middle;\n",
              "    }\n",
              "\n",
              "    .dataframe tbody tr th {\n",
              "        vertical-align: top;\n",
              "    }\n",
              "\n",
              "    .dataframe thead th {\n",
              "        text-align: right;\n",
              "    }\n",
              "</style>\n",
              "<table border=\"1\" class=\"dataframe\">\n",
              "  <thead>\n",
              "    <tr style=\"text-align: right;\">\n",
              "      <th></th>\n",
              "      <th>Average kendall PQ</th>\n",
              "      <th>Average spearman PQ</th>\n",
              "    </tr>\n",
              "  </thead>\n",
              "  <tbody>\n",
              "    <tr>\n",
              "      <th>Our</th>\n",
              "      <td>0.388462</td>\n",
              "      <td>0.551508</td>\n",
              "    </tr>\n",
              "    <tr>\n",
              "      <th>FAISS</th>\n",
              "      <td>0.392899</td>\n",
              "      <td>0.557155</td>\n",
              "    </tr>\n",
              "  </tbody>\n",
              "</table>\n",
              "</div>\n",
              "    <div class=\"colab-df-buttons\">\n",
              "\n",
              "  <div class=\"colab-df-container\">\n",
              "    <button class=\"colab-df-convert\" onclick=\"convertToInteractive('df-8a9b46d6-7e90-44c8-937c-c40355409ec2')\"\n",
              "            title=\"Convert this dataframe to an interactive table.\"\n",
              "            style=\"display:none;\">\n",
              "\n",
              "  <svg xmlns=\"http://www.w3.org/2000/svg\" height=\"24px\" viewBox=\"0 -960 960 960\">\n",
              "    <path d=\"M120-120v-720h720v720H120Zm60-500h600v-160H180v160Zm220 220h160v-160H400v160Zm0 220h160v-160H400v160ZM180-400h160v-160H180v160Zm440 0h160v-160H620v160ZM180-180h160v-160H180v160Zm440 0h160v-160H620v160Z\"/>\n",
              "  </svg>\n",
              "    </button>\n",
              "\n",
              "  <style>\n",
              "    .colab-df-container {\n",
              "      display:flex;\n",
              "      gap: 12px;\n",
              "    }\n",
              "\n",
              "    .colab-df-convert {\n",
              "      background-color: #E8F0FE;\n",
              "      border: none;\n",
              "      border-radius: 50%;\n",
              "      cursor: pointer;\n",
              "      display: none;\n",
              "      fill: #1967D2;\n",
              "      height: 32px;\n",
              "      padding: 0 0 0 0;\n",
              "      width: 32px;\n",
              "    }\n",
              "\n",
              "    .colab-df-convert:hover {\n",
              "      background-color: #E2EBFA;\n",
              "      box-shadow: 0px 1px 2px rgba(60, 64, 67, 0.3), 0px 1px 3px 1px rgba(60, 64, 67, 0.15);\n",
              "      fill: #174EA6;\n",
              "    }\n",
              "\n",
              "    .colab-df-buttons div {\n",
              "      margin-bottom: 4px;\n",
              "    }\n",
              "\n",
              "    [theme=dark] .colab-df-convert {\n",
              "      background-color: #3B4455;\n",
              "      fill: #D2E3FC;\n",
              "    }\n",
              "\n",
              "    [theme=dark] .colab-df-convert:hover {\n",
              "      background-color: #434B5C;\n",
              "      box-shadow: 0px 1px 3px 1px rgba(0, 0, 0, 0.15);\n",
              "      filter: drop-shadow(0px 1px 2px rgba(0, 0, 0, 0.3));\n",
              "      fill: #FFFFFF;\n",
              "    }\n",
              "  </style>\n",
              "\n",
              "    <script>\n",
              "      const buttonEl =\n",
              "        document.querySelector('#df-8a9b46d6-7e90-44c8-937c-c40355409ec2 button.colab-df-convert');\n",
              "      buttonEl.style.display =\n",
              "        google.colab.kernel.accessAllowed ? 'block' : 'none';\n",
              "\n",
              "      async function convertToInteractive(key) {\n",
              "        const element = document.querySelector('#df-8a9b46d6-7e90-44c8-937c-c40355409ec2');\n",
              "        const dataTable =\n",
              "          await google.colab.kernel.invokeFunction('convertToInteractive',\n",
              "                                                    [key], {});\n",
              "        if (!dataTable) return;\n",
              "\n",
              "        const docLinkHtml = 'Like what you see? Visit the ' +\n",
              "          '<a target=\"_blank\" href=https://colab.research.google.com/notebooks/data_table.ipynb>data table notebook</a>'\n",
              "          + ' to learn more about interactive tables.';\n",
              "        element.innerHTML = '';\n",
              "        dataTable['output_type'] = 'display_data';\n",
              "        await google.colab.output.renderOutput(dataTable, element);\n",
              "        const docLink = document.createElement('div');\n",
              "        docLink.innerHTML = docLinkHtml;\n",
              "        element.appendChild(docLink);\n",
              "      }\n",
              "    </script>\n",
              "  </div>\n",
              "\n",
              "\n",
              "<div id=\"df-16de7d7a-8aad-4072-a4c3-108a7441722d\">\n",
              "  <button class=\"colab-df-quickchart\" onclick=\"quickchart('df-16de7d7a-8aad-4072-a4c3-108a7441722d')\"\n",
              "            title=\"Suggest charts\"\n",
              "            style=\"display:none;\">\n",
              "\n",
              "<svg xmlns=\"http://www.w3.org/2000/svg\" height=\"24px\"viewBox=\"0 0 24 24\"\n",
              "     width=\"24px\">\n",
              "    <g>\n",
              "        <path d=\"M19 3H5c-1.1 0-2 .9-2 2v14c0 1.1.9 2 2 2h14c1.1 0 2-.9 2-2V5c0-1.1-.9-2-2-2zM9 17H7v-7h2v7zm4 0h-2V7h2v10zm4 0h-2v-4h2v4z\"/>\n",
              "    </g>\n",
              "</svg>\n",
              "  </button>\n",
              "\n",
              "<style>\n",
              "  .colab-df-quickchart {\n",
              "      --bg-color: #E8F0FE;\n",
              "      --fill-color: #1967D2;\n",
              "      --hover-bg-color: #E2EBFA;\n",
              "      --hover-fill-color: #174EA6;\n",
              "      --disabled-fill-color: #AAA;\n",
              "      --disabled-bg-color: #DDD;\n",
              "  }\n",
              "\n",
              "  [theme=dark] .colab-df-quickchart {\n",
              "      --bg-color: #3B4455;\n",
              "      --fill-color: #D2E3FC;\n",
              "      --hover-bg-color: #434B5C;\n",
              "      --hover-fill-color: #FFFFFF;\n",
              "      --disabled-bg-color: #3B4455;\n",
              "      --disabled-fill-color: #666;\n",
              "  }\n",
              "\n",
              "  .colab-df-quickchart {\n",
              "    background-color: var(--bg-color);\n",
              "    border: none;\n",
              "    border-radius: 50%;\n",
              "    cursor: pointer;\n",
              "    display: none;\n",
              "    fill: var(--fill-color);\n",
              "    height: 32px;\n",
              "    padding: 0;\n",
              "    width: 32px;\n",
              "  }\n",
              "\n",
              "  .colab-df-quickchart:hover {\n",
              "    background-color: var(--hover-bg-color);\n",
              "    box-shadow: 0 1px 2px rgba(60, 64, 67, 0.3), 0 1px 3px 1px rgba(60, 64, 67, 0.15);\n",
              "    fill: var(--button-hover-fill-color);\n",
              "  }\n",
              "\n",
              "  .colab-df-quickchart-complete:disabled,\n",
              "  .colab-df-quickchart-complete:disabled:hover {\n",
              "    background-color: var(--disabled-bg-color);\n",
              "    fill: var(--disabled-fill-color);\n",
              "    box-shadow: none;\n",
              "  }\n",
              "\n",
              "  .colab-df-spinner {\n",
              "    border: 2px solid var(--fill-color);\n",
              "    border-color: transparent;\n",
              "    border-bottom-color: var(--fill-color);\n",
              "    animation:\n",
              "      spin 1s steps(1) infinite;\n",
              "  }\n",
              "\n",
              "  @keyframes spin {\n",
              "    0% {\n",
              "      border-color: transparent;\n",
              "      border-bottom-color: var(--fill-color);\n",
              "      border-left-color: var(--fill-color);\n",
              "    }\n",
              "    20% {\n",
              "      border-color: transparent;\n",
              "      border-left-color: var(--fill-color);\n",
              "      border-top-color: var(--fill-color);\n",
              "    }\n",
              "    30% {\n",
              "      border-color: transparent;\n",
              "      border-left-color: var(--fill-color);\n",
              "      border-top-color: var(--fill-color);\n",
              "      border-right-color: var(--fill-color);\n",
              "    }\n",
              "    40% {\n",
              "      border-color: transparent;\n",
              "      border-right-color: var(--fill-color);\n",
              "      border-top-color: var(--fill-color);\n",
              "    }\n",
              "    60% {\n",
              "      border-color: transparent;\n",
              "      border-right-color: var(--fill-color);\n",
              "    }\n",
              "    80% {\n",
              "      border-color: transparent;\n",
              "      border-right-color: var(--fill-color);\n",
              "      border-bottom-color: var(--fill-color);\n",
              "    }\n",
              "    90% {\n",
              "      border-color: transparent;\n",
              "      border-bottom-color: var(--fill-color);\n",
              "    }\n",
              "  }\n",
              "</style>\n",
              "\n",
              "  <script>\n",
              "    async function quickchart(key) {\n",
              "      const quickchartButtonEl =\n",
              "        document.querySelector('#' + key + ' button');\n",
              "      quickchartButtonEl.disabled = true;  // To prevent multiple clicks.\n",
              "      quickchartButtonEl.classList.add('colab-df-spinner');\n",
              "      try {\n",
              "        const charts = await google.colab.kernel.invokeFunction(\n",
              "            'suggestCharts', [key], {});\n",
              "      } catch (error) {\n",
              "        console.error('Error during call to suggestCharts:', error);\n",
              "      }\n",
              "      quickchartButtonEl.classList.remove('colab-df-spinner');\n",
              "      quickchartButtonEl.classList.add('colab-df-quickchart-complete');\n",
              "    }\n",
              "    (() => {\n",
              "      let quickchartButtonEl =\n",
              "        document.querySelector('#df-16de7d7a-8aad-4072-a4c3-108a7441722d button');\n",
              "      quickchartButtonEl.style.display =\n",
              "        google.colab.kernel.accessAllowed ? 'block' : 'none';\n",
              "    })();\n",
              "  </script>\n",
              "</div>\n",
              "\n",
              "    </div>\n",
              "  </div>\n"
            ],
            "application/vnd.google.colaboratory.intrinsic+json": {
              "type": "dataframe",
              "summary": "{\n  \"name\": \"}, index=[\\\"Our\\\", \\\"FAISS\\\"])\",\n  \"rows\": 2,\n  \"fields\": [\n    {\n      \"column\": \"Average kendall PQ\",\n      \"properties\": {\n        \"dtype\": \"number\",\n        \"std\": 0.0031374880752615512,\n        \"min\": 0.38846173229322933,\n        \"max\": 0.3928988104810481,\n        \"num_unique_values\": 2,\n        \"samples\": [\n          0.3928988104810481,\n          0.38846173229322933\n        ],\n        \"semantic_type\": \"\",\n        \"description\": \"\"\n      }\n    },\n    {\n      \"column\": \"Average spearman PQ\",\n      \"properties\": {\n        \"dtype\": \"number\",\n        \"std\": 0.003993411021044606,\n        \"min\": 0.551507801727574,\n        \"max\": 0.5571553377536654,\n        \"num_unique_values\": 2,\n        \"samples\": [\n          0.5571553377536654,\n          0.551507801727574\n        ],\n        \"semantic_type\": \"\",\n        \"description\": \"\"\n      }\n    }\n  ]\n}"
            }
          },
          "metadata": {},
          "execution_count": 34
        }
      ],
      "source": [
        "kendalls_mine_pq = np.zeros(queries.shape[0])\n",
        "spearmans_mine_pq = np.zeros(queries.shape[0])\n",
        "\n",
        "kendalls_faiss_pq = np.zeros(queries.shape[0])\n",
        "spearmans_faiss_pq = np.zeros(queries.shape[0])\n",
        "\n",
        "for i in range(queries.shape[0]):\n",
        "  sorted_exact = sorted2rank(ranks_exact[i])\n",
        "  sorted_mine_pq = sorted2rank(ranks_mine_pq[i])\n",
        "  sorted_faiss_pq = sorted2rank(ranks_faiss_pq[i])\n",
        "\n",
        "  kendalls_mine_pq[i], _ = kendalltau(sorted_mine_pq, sorted_exact)\n",
        "  spearmans_mine_pq[i], _ = spearmanr(sorted_mine_pq, sorted_exact)\n",
        "\n",
        "  kendalls_faiss_pq[i], _ = kendalltau(sorted_faiss_pq, sorted_exact)\n",
        "  spearmans_faiss_pq[i], _ = spearmanr(sorted_faiss_pq, sorted_exact)\n",
        "\n",
        "\n",
        "pd.DataFrame({\n",
        "    \"Average kendall PQ\": [np.mean(kendalls_mine_pq), np.mean(kendalls_faiss_pq)],\n",
        "    \"Average spearman PQ\": [np.mean(spearmans_mine_pq), np.mean(spearmans_faiss_pq)],\n",
        "}, index=[\"Our\", \"FAISS\"])"
      ]
    },
    {
      "cell_type": "code",
      "execution_count": 35,
      "metadata": {
        "colab": {
          "base_uri": "https://localhost:8080/",
          "height": 449
        },
        "id": "_bcMHnVCBvP7",
        "outputId": "cba50fdf-4d17-41f6-f6e6-2456c361b292"
      },
      "outputs": [
        {
          "output_type": "display_data",
          "data": {
            "text/plain": [
              "<Figure size 640x480 with 1 Axes>"
            ],
            "image/png": "[encoded data removed]"
          },
          "metadata": {}
        }
      ],
      "source": [
        "plt.plot(kendalls_faiss_pq-kendalls_mine_pq, 'o', color='blue')\n",
        "plt.xlabel(\"Query index\")\n",
        "plt.ylabel(\"PQ Kendall tau difference\\n(Faiss - Our)\");"
      ]
    }
  ],
  "metadata": {
    "colab": {
      "provenance": []
    },
    "kernelspec": {
      "display_name": "Python 3 (ipykernel)",
      "language": "python",
      "name": "python3"
    },
    "language_info": {
      "codemirror_mode": {
        "name": "ipython",
        "version": 3
      },
      "file_extension": ".py",
      "mimetype": "text/x-python",
      "name": "python",
      "nbconvert_exporter": "python",
      "pygments_lexer": "ipython3",
      "version": "3.11.4"
    }
  },
  "nbformat": 4,
  "nbformat_minor": 0
}